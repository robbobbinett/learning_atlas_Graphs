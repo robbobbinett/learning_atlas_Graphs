{
 "cells": [
  {
   "cell_type": "code",
   "execution_count": 1,
   "id": "ae931bdd-54d2-4505-9f6a-b89130611919",
   "metadata": {},
   "outputs": [
    {
     "name": "stdout",
     "output_type": "stream",
     "text": [
      "Computing brute matrix...\n"
     ]
    },
    {
     "name": "stderr",
     "output_type": "stream",
     "text": [
      "100%|█████████████████████████████████████████████████████████████████████████████| 100/100 [00:00<00:00, 141.68it/s]"
     ]
    },
    {
     "name": "stdout",
     "output_type": "stream",
     "text": [
      "Done\n"
     ]
    },
    {
     "name": "stderr",
     "output_type": "stream",
     "text": [
      "\n"
     ]
    }
   ],
   "source": [
    "%matplotlib inline\n",
    "\n",
    "from kmedoids import fasterpam\n",
    "import matplotlib.pyplot as plt\n",
    "import networkx as nx\n",
    "import numpy as np\n",
    "from persim import plot_diagrams\n",
    "from ripser import ripser\n",
    "from scipy.linalg import sqrtm\n",
    "from sklearn.metrics.pairwise import euclidean_distances\n",
    "from sklearn.svm import SVC\n",
    "from tqdm import tqdm\n",
    "\n",
    "# from atlas_covariant import *\n",
    "from atlas_general import *\n",
    "from grass_utils import *\n",
    "from manifold_utils import quad_covector_to_covector_and_inner, \\\n",
    "                            quad_fit_full, \\\n",
    "                            matrix_to_quad_vector_matrix\n",
    "# from minimum_volume_ellipsoid import MinimumVolumeEllipsoid\n",
    "from mvee import mvee\n",
    "from yao_utils_otra import *"
   ]
  },
  {
   "cell_type": "code",
   "execution_count": 2,
   "id": "9fb0f2ed-50a9-4606-ba01-5e5577c1d3dc",
   "metadata": {},
   "outputs": [],
   "source": [
    "data_dir = \"data/klein\"\n",
    "\n",
    "X = np.load(data_dir+\"/klein_uniform_10000.npy\")\n",
    "# X = np.load(data_dir+\"/klein_uniform_1000.npy\")\n",
    "\n",
    "n_pts, d = X.shape"
   ]
  },
  {
   "cell_type": "code",
   "execution_count": 3,
   "id": "ffe27713-bc81-4988-90c5-2a6a502ad996",
   "metadata": {},
   "outputs": [
    {
     "data": {
      "image/png": "[encoded data removed]",
      "text/plain": [
       "<Figure size 1000x500 with 1 Axes>"
      ]
     },
     "metadata": {},
     "output_type": "display_data"
    }
   ],
   "source": [
    "dist_mat_raw = euclidean_distances(X, X)\n",
    "\n",
    "triu_inds = np.triu_indices(n_pts, 1)\n",
    "dist_mat_flat = dist_mat_raw[triu_inds]\n",
    "\n",
    "fig = plt.figure(figsize=(10, 5))\n",
    "ax = fig.add_subplot()\n",
    "\n",
    "# ax.hist(dist_mat_flat, bins=100)\n",
    "ax.hist(np.log(dist_mat_flat), bins=100)\n",
    "\n",
    "plt.show()"
   ]
  },
  {
   "cell_type": "code",
   "execution_count": 4,
   "id": "6fc73382-2102-463d-9573-6665f14f4bb9",
   "metadata": {},
   "outputs": [
    {
     "name": "stderr",
     "output_type": "stream",
     "text": [
      " 72%|█████████████████████████████████████████████████████▋                     | 7154/10000 [01:12<00:28, 99.33it/s]\n"
     ]
    },
    {
     "ename": "KeyboardInterrupt",
     "evalue": "",
     "output_type": "error",
     "traceback": [
      "\u001b[0;31m---------------------------------------------------------------------------\u001b[0m",
      "\u001b[0;31mKeyboardInterrupt\u001b[0m                         Traceback (most recent call last)",
      "Cell \u001b[0;32mIn[4], line 12\u001b[0m\n\u001b[1;32m     10\u001b[0m dist_vec \u001b[38;5;241m=\u001b[39m euclidean_distances(X_j, X)[\u001b[38;5;241m0\u001b[39m, :]\n\u001b[1;32m     11\u001b[0m inds_otra \u001b[38;5;241m=\u001b[39m \u001b[38;5;28mlist\u001b[39m(\u001b[38;5;28mrange\u001b[39m(n_pts))\n\u001b[0;32m---> 12\u001b[0m \u001b[43minds_otra\u001b[49m\u001b[38;5;241;43m.\u001b[39;49m\u001b[43msort\u001b[49m\u001b[43m(\u001b[49m\u001b[43mkey\u001b[49m\u001b[38;5;241;43m=\u001b[39;49m\u001b[38;5;28;43;01mlambda\u001b[39;49;00m\u001b[43m \u001b[49m\u001b[43mx\u001b[49m\u001b[43m:\u001b[49m\u001b[43m \u001b[49m\u001b[43mdist_vec\u001b[49m\u001b[43m[\u001b[49m\u001b[43mx\u001b[49m\u001b[43m]\u001b[49m\u001b[43m)\u001b[49m\n\u001b[1;32m     13\u001b[0m \u001b[38;5;28;01mfor\u001b[39;00m k \u001b[38;5;129;01min\u001b[39;00m inds_otra[\u001b[38;5;241m1\u001b[39m:(n_neigh\u001b[38;5;241m+\u001b[39m\u001b[38;5;241m1\u001b[39m)]:\n\u001b[1;32m     14\u001b[0m     dist \u001b[38;5;241m=\u001b[39m dist_vec[k]\n",
      "\u001b[0;31mKeyboardInterrupt\u001b[0m: "
     ]
    }
   ],
   "source": [
    "# Get \"fine mesh\", local distance graph\n",
    "# delta = 0.1\n",
    "# eps = 0.1\n",
    "n_neigh = 10\n",
    "\n",
    "G = nx.Graph()\n",
    "for j in tqdm(range(n_pts)):\n",
    "    X_j = X[j, :].reshape(1, 9)\n",
    "    G.add_node(j)\n",
    "    dist_vec = euclidean_distances(X_j, X)[0, :]\n",
    "    inds_otra = list(range(n_pts))\n",
    "    inds_otra.sort(key=lambda x: dist_vec[x])\n",
    "    for k in inds_otra[1:(n_neigh+1)]:\n",
    "        dist = dist_vec[k]\n",
    "        G.add_edge(j, k, weight=dist)\n",
    "    # for k in range(j+1, n_pts):\n",
    "    #     dist = dist_vec[k]\n",
    "    #     if dist <= eps:\n",
    "    #         G.add_edge(j, k, weight=dist)"
   ]
  },
  {
   "cell_type": "code",
   "execution_count": null,
   "id": "b0ffedde-57eb-4db7-9f16-02f9ae9683d2",
   "metadata": {},
   "outputs": [],
   "source": [
    "try:\n",
    "    dist_mat = np.load(\"dist_mat_experimental.npy\")\n",
    "except FileNotFoundError:\n",
    "    dist_mat = np.zeros((n_pts, n_pts))\n",
    "    \n",
    "    for j in tqdm(range(n_pts)):\n",
    "        dist_dict, _ = nx.single_source_dijkstra(G, j, weight=\"weight\")\n",
    "        for k in range(j+1, n_pts):\n",
    "            dist = dist_dict[k]\n",
    "            dist_mat[j, k] = dist\n",
    "            dist_mat[k, j] = dist\n",
    "\n",
    "    np.save(\"dist_mat_experimental.npy\", dist_mat)"
   ]
  },
  {
   "cell_type": "code",
   "execution_count": null,
   "id": "500e77ff-ab9b-4ce3-8050-8a40c931890c",
   "metadata": {},
   "outputs": [],
   "source": [
    "try:\n",
    "    theta_list = np.load(\"thetas_experimental.npy\")\n",
    "    phi_list = np.load(\"phis_experimental.npy\")\n",
    "except FileNotFoundError:\n",
    "    theta_list = []\n",
    "    phi_list = []\n",
    "    for j in tqdm(range(n_pts)):\n",
    "        x = X[j, :]\n",
    "        theta, phi = find_closest_theta_phi_brute(x)\n",
    "        theta_list.append(theta)\n",
    "        phi_list.append(phi)\n",
    "    \n",
    "    np.save(\"thetas_experimental.npy\", theta_list)\n",
    "    np.save(\"phis_experimental.npy\", phi_list)"
   ]
  },
  {
   "cell_type": "code",
   "execution_count": null,
   "id": "88f60123-7a78-4e88-9a02-61145da035d7",
   "metadata": {},
   "outputs": [],
   "source": [
    "max_iter = int(1e8)\n",
    "k = 64\n",
    "pam_obj = fasterpam(dist_mat, k, max_iter=max_iter)\n",
    "\n",
    "cmap_pre = plt.cm.tab20\n",
    "n_colors = cmap_pre.N\n",
    "# extract all colors from the .jet map\n",
    "cmaplist = [cmap_pre(i) for i in range(cmap_pre.N)]\n",
    "shaplist = [\"o\", \"^\", \"s\", \"*\"]\n",
    "\n",
    "fig = plt.figure(figsize=(10, 10))\n",
    "ax = fig.add_subplot()\n",
    "\n",
    "for label in tqdm(range(k)):\n",
    "    color = cmaplist[label % n_colors]\n",
    "    shape = shaplist[label // n_colors]\n",
    "    \n",
    "    inds_oi = [ind for ind, val in enumerate(pam_obj.labels) \\\n",
    "                                      if (val == label)]\n",
    "    thetas_oi = [theta_list[ind] for ind in inds_oi]\n",
    "    phis_oi = [phi_list[ind] for ind in inds_oi]\n",
    "\n",
    "    ax.scatter(thetas_oi, phis_oi, color=color, marker=shape)\n",
    "\n",
    "# for j in tqdm(range(n_pts)):\n",
    "#     label = int(pam_obj.labels[j])\n",
    "#     color = cmaplist[label % n_colors]\n",
    "#     shape = shaplist[label // n_colors]\n",
    "\n",
    "#     theta = theta_list[j]\n",
    "#     phi = phi_list[j]\n",
    "#     ax.scatter(theta, phi, color=color, marker=shape)\n",
    "\n",
    "fig.savefig(\"mosaic.png\", dpi=300)\n",
    "\n",
    "plt.show()"
   ]
  },
  {
   "cell_type": "code",
   "execution_count": null,
   "id": "ecf807d7-a6b8-4c72-b5a6-84f5f3afe8e5",
   "metadata": {},
   "outputs": [],
   "source": [
    "Y = matrix_to_quad_vector_matrix(X)\n",
    "\n",
    "L_list = []\n",
    "M_list = []\n",
    "h_mat_list = []\n",
    "x_0_list = []\n",
    "X_par_list = []\n",
    "t_mat_list = []\n",
    "\n",
    "A_list = []\n",
    "b_list = []\n",
    "c_list = []\n",
    "\n",
    "for label in tqdm(range(k)):\n",
    "# for label in tqdm(range(k)):\n",
    "    inds_oi = [ind for ind, val in enumerate(pam_obj.labels) \\\n",
    "                                      if (val == label)]\n",
    "    labels_binary = [(val == label) for val in pam_obj.labels]\n",
    "    svc_weights = [(np.inf if val else 1.0) for val in labels_binary]\n",
    "\n",
    "    X_oi = X[inds_oi, :]\n",
    "    Y_oi = Y[inds_oi, :]\n",
    "    \n",
    "    inds_no = [ind for ind in range(n_pts) if (ind not in inds_oi)]\n",
    "    Y_no = Y[inds_no, :]\n",
    "    \n",
    "    # svc = SVC(kernel=\"linear\")\n",
    "    # svc.fit(Y, labels_binary, sample_weight=svc_weights)\n",
    "    # c_list.append(svc.coef0)\n",
    "    # b, A = quad_covector_to_covector_and_inner(svc.coef_.reshape(-1), 9)\n",
    "    # b_list.append(b)\n",
    "    # A_list.append(A)\n",
    "\n",
    "    A, b, c = mvee(X_oi)\n",
    "    A_list.append(A)\n",
    "    b_list.append(b)\n",
    "    c_list.append(c)\n",
    "    \n",
    "    # Create local quadratic approximation\n",
    "    quad_params = quad_fit_full(X_oi, 2)\n",
    "    L = quad_params[\"L\"]\n",
    "    M = quad_params[\"M\"]\n",
    "    h_mat = quad_params[\"h_mat\"]\n",
    "    x_0 = quad_params[\"mean\"]\n",
    "\n",
    "    L_list.append(L)\n",
    "    M_list.append(M)\n",
    "    h_mat_list.append(h_mat)\n",
    "    x_0_list.append(x_0)"
   ]
  },
  {
   "cell_type": "code",
   "execution_count": null,
   "id": "e25e0630-a6bd-44c6-bca8-008f94ca3163",
   "metadata": {},
   "outputs": [],
   "source": [
    "np.linalg.eigh(A)\n",
    "\n",
    "print(A.shape)\n",
    "print(b.shape)"
   ]
  },
  {
   "cell_type": "code",
   "execution_count": null,
   "id": "1ec2692a-a51d-4ecc-a793-cc4b421536ce",
   "metadata": {},
   "outputs": [],
   "source": [
    "atlas_gen = atlas_general(2, 9)\n",
    "\n",
    "for x_0, L, M, h_mat, A, b, c in zip(x_0_list, \n",
    "                                    L_list, M_list,\n",
    "                                    h_mat_list,\n",
    "                                    A_list, b_list,\n",
    "                                    c_list):\n",
    "    atlas_gen.add_new_chart(x_0, L, M, h_mat, A, b, c)"
   ]
  },
  {
   "cell_type": "code",
   "execution_count": null,
   "id": "e6204806-efcf-4677-a6b7-1375f8ab716d",
   "metadata": {},
   "outputs": [],
   "source": [
    "atlas_gen.save_atlas(\"random_klein\")"
   ]
  }
 ],
 "metadata": {
  "kernelspec": {
   "display_name": "Python 3 (ipykernel)",
   "language": "python",
   "name": "python3"
  },
  "language_info": {
   "codemirror_mode": {
    "name": "ipython",
    "version": 3
   },
   "file_extension": ".py",
   "mimetype": "text/x-python",
   "name": "python",
   "nbconvert_exporter": "python",
   "pygments_lexer": "ipython3",
   "version": "3.8.10"
  }
 },
 "nbformat": 4,
 "nbformat_minor": 5
}
