{
 "cells": [
  {
   "cell_type": "code",
   "execution_count": 1,
   "metadata": {},
   "outputs": [
    {
     "name": "stderr",
     "output_type": "stream",
     "text": [
      "/home/ryan/.local/lib/python3.8/site-packages/pandas/core/computation/expressions.py:20: UserWarning: Pandas requires version '2.7.3' or newer of 'numexpr' (version '2.7.1' currently installed).\n",
      "  from pandas.core.computation.check import NUMEXPR_INSTALLED\n"
     ]
    }
   ],
   "source": [
    "%matplotlib inline\n",
    "\n",
    "import numpy as np\n",
    "import matplotlib.pyplot as plt\n",
    "import pandas as pd\n",
    "from tqdm import tqdm"
   ]
  },
  {
   "cell_type": "code",
   "execution_count": 2,
   "metadata": {},
   "outputs": [],
   "source": [
    "dir_str = \"joseph_data/SCP44/expression\""
   ]
  },
  {
   "cell_type": "code",
   "execution_count": 3,
   "metadata": {},
   "outputs": [],
   "source": [
    "file_str_af = dir_str + \"/AtlasFullLength_log2TPM.txt\"\n",
    "file_str_is = dir_str + \"/infected_samples_Log2TPM.txt\"\n",
    "file_str_a = dir_str + \"/atlas_Log2Tpm_round2.txt\"\n",
    "file_str_rc = dir_str + \"/regional_cell_sampling_Log2TPM_fixed.txt\"\n",
    "\n",
    "df_af = pd.read_csv(file_str_af, sep=\"\\t\")\n",
    "df_is = pd.read_csv(file_str_is, sep=\"\\t\")\n",
    "df_a = pd.read_csv(file_str_a, sep=\"\\t\")\n",
    "df_rc = pd.read_csv(file_str_rc, sep=\"\\t\")\n",
    "\n",
    "dfs = [df_af, df_is, df_a, df_rc]"
   ]
  },
  {
   "cell_type": "code",
   "execution_count": 4,
   "metadata": {},
   "outputs": [
    {
     "name": "stdout",
     "output_type": "stream",
     "text": [
      "(20108, 1522)\n",
      "(15215, 9843)\n",
      "(15971, 7217)\n",
      "(27998, 11666)\n"
     ]
    }
   ],
   "source": [
    "for df in dfs:\n",
    "    print(df.shape)"
   ]
  }
 ],
 "metadata": {
  "kernelspec": {
   "display_name": "Python 3",
   "language": "python",
   "name": "python3"
  },
  "language_info": {
   "codemirror_mode": {
    "name": "ipython",
    "version": 3
   },
   "file_extension": ".py",
   "mimetype": "text/x-python",
   "name": "python",
   "nbconvert_exporter": "python",
   "pygments_lexer": "ipython3",
   "version": "3.8.10"
  }
 },
 "nbformat": 4,
 "nbformat_minor": 4
}
