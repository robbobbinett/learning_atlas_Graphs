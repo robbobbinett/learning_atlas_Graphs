{
 "cells": [
  {
   "cell_type": "code",
   "execution_count": 1,
   "metadata": {},
   "outputs": [],
   "source": [
    "%matplotlib inline\n",
    "\n",
    "import numpy as np\n",
    "import matplotlib.pyplot as plt\n",
    "from sklearn.metrics.pairwise import euclidean_distances\n",
    "\n",
    "from atlas_yao import *"
   ]
  },
  {
   "cell_type": "code",
   "execution_count": 2,
   "metadata": {},
   "outputs": [
    {
     "name": "stdout",
     "output_type": "stream",
     "text": [
      "(1000, 9)\n",
      "(1000, 9)\n"
     ]
    }
   ],
   "source": [
    "data_dir = \"data/klein\"\n",
    "\n",
    "Vecs = np.load(data_dir+\"/klein_uniform_1000.npy\")\n",
    "#Vecs = np.load(data_dir+\"/klein_uniform_100.npy\")\n",
    "patches_pos = np.load(data_dir+\"/patches_pos_razor_big.npy\")\n",
    "patches_neg = np.load(data_dir+\"/patches_neg_razor_big.npy\")\n",
    "\n",
    "vecs_pos = []\n",
    "vecs_neg = []\n",
    "for j in range(patches_pos.shape[0]):\n",
    "    vecs_pos.append(patches_pos[j, :, :].reshape(9))\n",
    "    vecs_neg.append(patches_neg[j, :, :].reshape(9))\n",
    "Vecs_pos = np.vstack(vecs_pos)\n",
    "Vecs_neg = np.vstack(vecs_neg)\n",
    "\n",
    "print(Vecs_pos.shape)\n",
    "print(Vecs_neg.shape)"
   ]
  },
  {
   "cell_type": "code",
   "execution_count": 3,
   "metadata": {},
   "outputs": [
    {
     "name": "stdout",
     "output_type": "stream",
     "text": [
      "Getting graph as sparse matrix...\n",
      "Done\n",
      "Getting graph from sparse matrix...\n",
      "Done\n",
      "Done\n"
     ]
    },
    {
     "name": "stderr",
     "output_type": "stream",
     "text": [
      "  5%|▍         | 3/64 [00:00<00:02, 22.73it/s]"
     ]
    },
    {
     "name": "stdout",
     "output_type": "stream",
     "text": [
      "Constructing enormous graph for brute-force geodesic approximation.\n",
      "Trying eps = 0.6\n"
     ]
    },
    {
     "name": "stderr",
     "output_type": "stream",
     "text": [
      "100%|██████████| 64/64 [00:02<00:00, 21.69it/s]\n",
      "100%|██████████| 41088/41088 [05:39<00:00, 121.13it/s]\n"
     ]
    }
   ],
   "source": [
    "# Number of charts inspired by previous notebook\n",
    "n_charts = 64\n",
    "km_max_iter = 1000\n",
    "grid_len = 30\n",
    "\n",
    "ka = atlas_yao(Vecs, Vecs_pos, Vecs_neg, n_charts,\n",
    "              km_max_iter=km_max_iter,\n",
    "              grid_len=grid_len,\n",
    "              load_dist_mat=True)"
   ]
  },
  {
   "cell_type": "code",
   "execution_count": 4,
   "metadata": {},
   "outputs": [],
   "source": [
    "# Save atlas\n",
    "ka.store_atlas(\"stored_charts/oct_20_2023/chart\")"
   ]
  },
  {
   "cell_type": "code",
   "execution_count": 5,
   "metadata": {},
   "outputs": [],
   "source": [
    "# Get initial points for RPB\n",
    "### Get random positive point\n",
    "np.random.seed(600)\n",
    "n_pos = Vecs_pos.shape[0]\n",
    "ind_pos = np.random.randint(n_pos)\n",
    "x_pos = Vecs_pos[ind_pos, :]\n",
    "### Get closest negative point\n",
    "X_pos = x_pos.reshape((1, 9))\n",
    "dist_vec = euclidean_distances(X_pos, Vecs_neg)[0, :]\n",
    "n_neg = Vecs_neg.shape[0]\n",
    "ind_neg = np.random.randint(n_neg)\n",
    "x_neg = Vecs_neg[ind_neg, :]\n",
    "\n",
    "# Ingest x_pos, x_neg into atlas graph coordinates\n",
    "xi_pos, chart_pos = ka.ingest_ambient_point(x_pos)\n",
    "xi_neg, chart_neg = ka.ingest_ambient_point(x_neg)"
   ]
  },
  {
   "cell_type": "code",
   "execution_count": 6,
   "metadata": {},
   "outputs": [
    {
     "name": "stderr",
     "output_type": "stream",
     "text": [
      "100%|██████████| 10/10 [54:53<00:00, 329.35s/it]\n"
     ]
    }
   ],
   "source": [
    "n_iters = 10\n",
    "dist_max = 2.0\n",
    "\"\"\"\n",
    "output = ka.riemannian_principal_boundary_mod(chart_init_pos=(4, 0),\n",
    "                                        chart_init_neg=(4, 4),\n",
    "                                        n_iters=n_iters,\n",
    "                                        dist_max=dist_max)\n",
    "\"\"\"\n",
    "output =  ka.riemannian_principal_boundary(xi_pos,\n",
    "                                           chart_pos,\n",
    "                                           xi_neg,\n",
    "                                           chart_neg,\n",
    "                                           stepsize=0.1,\n",
    "                                           n_iters=n_iters,\n",
    "                                           dist_max=dist_max)"
   ]
  },
  {
   "cell_type": "code",
   "execution_count": 7,
   "metadata": {},
   "outputs": [],
   "source": [
    "# Save RPB results\n",
    "xi_pos_list, chart_pos_list, xi_prime_pos_list, xi_neg_list, chart_neg_list, xi_prime_neg_list, xi_bou_list, chart_bou_list, xi_prime_bou_list, xi_prime_bou_pos_list, xi_prime_bou_neg_list = output\n",
    "\n",
    "names = [\"xi_pos_list\", \"chart_pos_list\", \"xi_prime_pos_list\", \"xi_neg_list\", \"chart_neg_list\", \"xi_prime_neg_list\", \"xi_bou_list\", \"chart_bou_list\", \"xi_prime_bou_list\", \"xi_prime_bou_pos_list\", \"xi_prime_bou_neg_list\"]\n",
    "\n",
    "temp_dir = \"temp_save_\"+str(n_iters)\n",
    "for item, name in zip(output, names):\n",
    "    np.save(temp_dir+\"/\"+name+\".npy\", item)"
   ]
  }
 ],
 "metadata": {
  "kernelspec": {
   "display_name": "Python 3",
   "language": "python",
   "name": "python3"
  },
  "language_info": {
   "codemirror_mode": {
    "name": "ipython",
    "version": 3
   },
   "file_extension": ".py",
   "mimetype": "text/x-python",
   "name": "python",
   "nbconvert_exporter": "python",
   "pygments_lexer": "ipython3",
   "version": "3.8.10"
  }
 },
 "nbformat": 4,
 "nbformat_minor": 4
}
