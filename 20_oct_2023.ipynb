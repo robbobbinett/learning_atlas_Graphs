{
 "cells": [
  {
   "cell_type": "code",
   "execution_count": 1,
   "metadata": {},
   "outputs": [],
   "source": [
    "%matplotlib inline\n",
    "\n",
    "import numpy as np\n",
    "import matplotlib.pyplot as plt\n",
    "from sklearn.metrics.pairwise import euclidean_distances\n",
    "\n",
    "from atlas_yao import *"
   ]
  },
  {
   "cell_type": "code",
   "execution_count": 2,
   "metadata": {},
   "outputs": [],
   "source": [
    "data_dir = \"data/klein\"\n",
    "\n",
    "Vecs = np.load(data_dir+\"/klein_uniform_1000.npy\")\n",
    "patches_pos = np.load(data_dir+\"/patches_pos_razor_big.npy\")\n",
    "patches_neg = np.load(data_dir+\"/patches_neg_razor_big.npy\")\n",
    "\n",
    "vecs_pos = []\n",
    "vecs_neg = []\n",
    "for j in range(patches_pos.shape[0]):\n",
    "    vecs_pos.append(patches_pos[j, :, :].reshape(9))\n",
    "    vecs_neg.append(patches_neg[j, :, :].reshape(9))\n",
    "Vecs_pos = np.vstack(vecs_pos)\n",
    "Vecs_neg = np.vstack(vecs_neg)"
   ]
  },
  {
   "cell_type": "code",
   "execution_count": 3,
   "metadata": {},
   "outputs": [
    {
     "name": "stdout",
     "output_type": "stream",
     "text": [
      "Getting graph as sparse matrix...\n",
      "Done\n",
      "Getting graph from sparse matrix...\n",
      "Done\n",
      "Generating distance matrix...\n"
     ]
    },
    {
     "name": "stderr",
     "output_type": "stream",
     "text": [
      "100%|█████████████████████████████████████████████████████████████████████████████████████████████████████████████████████████████████████████████████████████████████████████████████████████████████████| 1000/1000 [36:56<00:00,  2.22s/it]\n"
     ]
    },
    {
     "name": "stdout",
     "output_type": "stream",
     "text": [
      "Done\n",
      "Constructing enormous graph for brute-force geodesic approximation.\n",
      "Trying eps = 0.6\n"
     ]
    },
    {
     "name": "stderr",
     "output_type": "stream",
     "text": [
      "100%|█████████████████████████████████████████████████████████████████████████████████████████████████████████████████████████████████████████████████████████████████████████████████████████████████████████| 64/64 [00:01<00:00, 57.40it/s]\n",
      "100%|██████████████████████████████████████████████████████████████████████████████████████████████████████████████████████████████████████████████████████████████████████████████████████████████████| 41380/41380 [06:13<00:00, 110.77it/s]\n"
     ]
    }
   ],
   "source": [
    "# Number of charts inspired by previous notebook\n",
    "n_charts = 64\n",
    "km_max_iter = 1000\n",
    "grid_len = 30\n",
    "\n",
    "ka = atlas_yao(Vecs, Vecs_pos, Vecs_neg, n_charts,\n",
    "              km_max_iter=km_max_iter,\n",
    "              grid_len=grid_len)"
   ]
  },
  {
   "cell_type": "code",
   "execution_count": 4,
   "metadata": {},
   "outputs": [],
   "source": [
    "# Get initial points for RPB\n",
    "### Get random positive point\n",
    "np.random.seed(600)\n",
    "n_pos = Vecs_pos.shape[0]\n",
    "ind_pos = np.random.randint(n_pos)\n",
    "x_pos = Vecs_pos[ind_pos, :]\n",
    "### Get closest negative point\n",
    "X_pos = x_pos.reshape((1, 9))\n",
    "dist_vec = euclidean_distances(X_pos, Vecs_neg)[0, :]\n",
    "n_neg = Vecs_neg.shape[0]\n",
    "ind_neg = np.random.randint(n_neg)\n",
    "x_neg = Vecs_neg[ind_neg, :]\n",
    "\n",
    "# Ingest x_pos, x_neg into atlas graph coordinates\n",
    "xi_pos, chart_pos = ka.ingest_ambient_point(x_pos)\n",
    "xi_neg, chart_neg = ka.ingest_ambient_point(x_neg)"
   ]
  },
  {
   "cell_type": "code",
   "execution_count": 5,
   "metadata": {},
   "outputs": [
    {
     "name": "stderr",
     "output_type": "stream",
     "text": [
      "  0%|▎                                                                                                                                                                                                  | 3/2000 [11:53<131:58:32, 237.91s/it]\n"
     ]
    },
    {
     "ename": "KeyboardInterrupt",
     "evalue": "",
     "output_type": "error",
     "traceback": [
      "\u001b[0;31m---------------------------------------------------------------------------\u001b[0m",
      "\u001b[0;31mKeyError\u001b[0m                                  Traceback (most recent call last)",
      "File \u001b[0;32m~/Documents/GitHub/learning_atlas_Graphs/atlas_yao.py:214\u001b[0m, in \u001b[0;36matlas_yao.shortest_path_cached\u001b[0;34m(self, ind_0, ind_1)\u001b[0m\n\u001b[1;32m    213\u001b[0m \u001b[38;5;28;01mtry\u001b[39;00m:\n\u001b[0;32m--> 214\u001b[0m \t\u001b[38;5;28;01mreturn\u001b[39;00m \u001b[38;5;28;43mself\u001b[39;49m\u001b[38;5;241;43m.\u001b[39;49m\u001b[43mshortest_path_cache\u001b[49m\u001b[43m[\u001b[49m\u001b[43mkey\u001b[49m\u001b[43m]\u001b[49m\n\u001b[1;32m    215\u001b[0m \u001b[38;5;28;01mexcept\u001b[39;00m \u001b[38;5;167;01mKeyError\u001b[39;00m:\n",
      "\u001b[0;31mKeyError\u001b[0m: (6008, 3198)",
      "\nDuring handling of the above exception, another exception occurred:\n",
      "\u001b[0;31mKeyboardInterrupt\u001b[0m                         Traceback (most recent call last)",
      "Cell \u001b[0;32mIn[5], line 9\u001b[0m\n\u001b[1;32m      2\u001b[0m dist_max \u001b[38;5;241m=\u001b[39m \u001b[38;5;241m2.0\u001b[39m\n\u001b[1;32m      3\u001b[0m \u001b[38;5;124;03m\"\"\"\u001b[39;00m\n\u001b[1;32m      4\u001b[0m \u001b[38;5;124;03moutput = ka.riemannian_principal_boundary_mod(chart_init_pos=(4, 0),\u001b[39;00m\n\u001b[1;32m      5\u001b[0m \u001b[38;5;124;03m                                        chart_init_neg=(4, 4),\u001b[39;00m\n\u001b[1;32m      6\u001b[0m \u001b[38;5;124;03m                                        n_iters=n_iters,\u001b[39;00m\n\u001b[1;32m      7\u001b[0m \u001b[38;5;124;03m                                        dist_max=dist_max)\u001b[39;00m\n\u001b[1;32m      8\u001b[0m \u001b[38;5;124;03m\"\"\"\u001b[39;00m\n\u001b[0;32m----> 9\u001b[0m output \u001b[38;5;241m=\u001b[39m  \u001b[43mka\u001b[49m\u001b[38;5;241;43m.\u001b[39;49m\u001b[43mriemannian_principal_boundary\u001b[49m\u001b[43m(\u001b[49m\u001b[43mxi_pos\u001b[49m\u001b[43m,\u001b[49m\n\u001b[1;32m     10\u001b[0m \u001b[43m                                           \u001b[49m\u001b[43mchart_pos\u001b[49m\u001b[43m,\u001b[49m\n\u001b[1;32m     11\u001b[0m \u001b[43m                                           \u001b[49m\u001b[43mxi_neg\u001b[49m\u001b[43m,\u001b[49m\n\u001b[1;32m     12\u001b[0m \u001b[43m                                           \u001b[49m\u001b[43mchart_neg\u001b[49m\u001b[43m,\u001b[49m\n\u001b[1;32m     13\u001b[0m \u001b[43m                                           \u001b[49m\u001b[43mstepsize\u001b[49m\u001b[38;5;241;43m=\u001b[39;49m\u001b[38;5;241;43m0.1\u001b[39;49m\u001b[43m,\u001b[49m\n\u001b[1;32m     14\u001b[0m \u001b[43m                                           \u001b[49m\u001b[43mn_iters\u001b[49m\u001b[38;5;241;43m=\u001b[39;49m\u001b[43mn_iters\u001b[49m\u001b[43m,\u001b[49m\n\u001b[1;32m     15\u001b[0m \u001b[43m                                           \u001b[49m\u001b[43mdist_max\u001b[49m\u001b[38;5;241;43m=\u001b[39;49m\u001b[43mdist_max\u001b[49m\u001b[43m)\u001b[49m\n",
      "File \u001b[0;32m~/Documents/GitHub/learning_atlas_Graphs/atlas_yao.py:318\u001b[0m, in \u001b[0;36matlas_yao.riemannian_principal_boundary\u001b[0;34m(self, xi_init_pos, chart_init_pos, xi_init_neg, chart_init_neg, stepsize, n_iters, dist_max)\u001b[0m\n\u001b[1;32m    312\u001b[0m \u001b[38;5;28;01mfor\u001b[39;00m j \u001b[38;5;129;01min\u001b[39;00m tqdm(\u001b[38;5;28mrange\u001b[39m(n_iters)):\n\u001b[1;32m    313\u001b[0m \t\u001b[38;5;66;03m# Perform first steps\u001b[39;00m\n\u001b[1;32m    314\u001b[0m \txi_pos, chart_pos, amb_prev_pos, xi_prime_pos \u001b[38;5;241m=\u001b[39m \u001b[38;5;28mself\u001b[39m\u001b[38;5;241m.\u001b[39mprincipal_flow_pos_iter(xi_pos,\n\u001b[1;32m    315\u001b[0m \t\t\t\tchart_pos, stepsize,\n\u001b[1;32m    316\u001b[0m \t\t\t\tdist_max\u001b[38;5;241m=\u001b[39mdist_max,\n\u001b[1;32m    317\u001b[0m \t\t\t\tamb_prev\u001b[38;5;241m=\u001b[39mamb_prev_pos)\n\u001b[0;32m--> 318\u001b[0m \txi_neg, chart_neg, amb_prev_neg, xi_prime_neg \u001b[38;5;241m=\u001b[39m \u001b[38;5;28;43mself\u001b[39;49m\u001b[38;5;241;43m.\u001b[39;49m\u001b[43mprincipal_flow_neg_iter\u001b[49m\u001b[43m(\u001b[49m\u001b[43mxi_neg\u001b[49m\u001b[43m,\u001b[49m\n\u001b[1;32m    319\u001b[0m \u001b[43m\t\t\t\t\u001b[49m\u001b[43mchart_neg\u001b[49m\u001b[43m,\u001b[49m\u001b[43m \u001b[49m\u001b[43mstepsize\u001b[49m\u001b[43m,\u001b[49m\n\u001b[1;32m    320\u001b[0m \u001b[43m\t\t\t\t\u001b[49m\u001b[43mdist_max\u001b[49m\u001b[38;5;241;43m=\u001b[39;49m\u001b[43mdist_max\u001b[49m\u001b[43m,\u001b[49m\n\u001b[1;32m    321\u001b[0m \u001b[43m\t\t\t\t\u001b[49m\u001b[43mamb_prev\u001b[49m\u001b[38;5;241;43m=\u001b[39;49m\u001b[43mamb_prev_neg\u001b[49m\u001b[43m)\u001b[49m\n\u001b[1;32m    322\u001b[0m \t\u001b[38;5;66;03m# Yao iteration\u001b[39;00m\n\u001b[1;32m    323\u001b[0m \txi_prime_bou_pos \u001b[38;5;241m=\u001b[39m \u001b[38;5;28mself\u001b[39m\u001b[38;5;241m.\u001b[39mvector_transport_through_graph(xi_pos,\n\u001b[1;32m    324\u001b[0m \t\t\t\tchart_pos, xi_bou,\n\u001b[1;32m    325\u001b[0m \t\t\t\tchart_bou, xi_prime_pos)\n",
      "File \u001b[0;32m~/Documents/GitHub/learning_atlas_Graphs/atlas_yao.py:492\u001b[0m, in \u001b[0;36matlas_yao.principal_flow_neg_iter\u001b[0;34m(self, xi, chart, stepsize, amb_prev, dist_max)\u001b[0m\n\u001b[1;32m    490\u001b[0m \u001b[38;5;28;01mdef\u001b[39;00m \u001b[38;5;21mprincipal_flow_neg_iter\u001b[39m(\u001b[38;5;28mself\u001b[39m, xi, chart, stepsize,\n\u001b[1;32m    491\u001b[0m \t\t\t\tamb_prev\u001b[38;5;241m=\u001b[39m\u001b[38;5;28;01mNone\u001b[39;00m, dist_max\u001b[38;5;241m=\u001b[39m\u001b[38;5;241m1.0\u001b[39m):\n\u001b[0;32m--> 492\u001b[0m \tV, xi_prime_mean \u001b[38;5;241m=\u001b[39m \u001b[38;5;28;43mself\u001b[39;49m\u001b[38;5;241;43m.\u001b[39;49m\u001b[43mevaluate_neg_flow_spectrum\u001b[49m\u001b[43m(\u001b[49m\u001b[43mxi\u001b[49m\u001b[43m,\u001b[49m\n\u001b[1;32m    493\u001b[0m \u001b[43m\t\t\t\t\u001b[49m\u001b[43mchart\u001b[49m\u001b[43m,\u001b[49m\u001b[43m \u001b[49m\u001b[43mdist_max\u001b[49m\u001b[38;5;241;43m=\u001b[39;49m\u001b[43mdist_max\u001b[49m\u001b[43m)\u001b[49m\n\u001b[1;32m    494\u001b[0m \t\u001b[38;5;28;01mif\u001b[39;00m \u001b[38;5;28misinstance\u001b[39m(amb_prev, NoneType):\n\u001b[1;32m    495\u001b[0m \t\txi_prime \u001b[38;5;241m=\u001b[39m V[:, \u001b[38;5;241m1\u001b[39m]\n",
      "File \u001b[0;32m~/Documents/GitHub/learning_atlas_Graphs/atlas_yao.py:148\u001b[0m, in \u001b[0;36matlas_yao.evaluate_neg_flow_spectrum\u001b[0;34m(self, xi_0, chart, dist_max)\u001b[0m\n\u001b[1;32m    146\u001b[0m chart_otra \u001b[38;5;241m=\u001b[39m \u001b[38;5;28mself\u001b[39m\u001b[38;5;241m.\u001b[39mchart_assignments_neg[j]\n\u001b[1;32m    147\u001b[0m xi_otra \u001b[38;5;241m=\u001b[39m \u001b[38;5;28mself\u001b[39m\u001b[38;5;241m.\u001b[39mXi_neg_dict[chart][j, :]\n\u001b[0;32m--> 148\u001b[0m xi_prime, dist \u001b[38;5;241m=\u001b[39m \u001b[38;5;28;43mself\u001b[39;49m\u001b[38;5;241;43m.\u001b[39;49m\u001b[43mlogarithm_through_graph\u001b[49m\u001b[43m(\u001b[49m\u001b[43mxi_0\u001b[49m\u001b[43m,\u001b[49m\n\u001b[1;32m    149\u001b[0m \u001b[43m\t\t\t\u001b[49m\u001b[43mchart\u001b[49m\u001b[43m,\u001b[49m\u001b[43m \u001b[49m\u001b[43mxi_otra\u001b[49m\u001b[43m,\u001b[49m\n\u001b[1;32m    150\u001b[0m \u001b[43m\t\t\t\u001b[49m\u001b[43mchart_otra\u001b[49m\u001b[43m)\u001b[49m\n\u001b[1;32m    151\u001b[0m \u001b[38;5;28;01mif\u001b[39;00m dist \u001b[38;5;241m<\u001b[39m\u001b[38;5;241m=\u001b[39m dist_max:\n\u001b[1;32m    152\u001b[0m \tkern_coeff \u001b[38;5;241m=\u001b[39m \u001b[38;5;28mself\u001b[39m\u001b[38;5;241m.\u001b[39mkernel(dist)\n",
      "File \u001b[0;32m~/Documents/GitHub/learning_atlas_Graphs/atlas_yao.py:163\u001b[0m, in \u001b[0;36matlas_yao.logarithm_through_graph\u001b[0;34m(self, xi_0, chart_0, xi_1, chart_1)\u001b[0m\n\u001b[1;32m    162\u001b[0m \u001b[38;5;28;01mdef\u001b[39;00m \u001b[38;5;21mlogarithm_through_graph\u001b[39m(\u001b[38;5;28mself\u001b[39m, xi_0, chart_0, xi_1, chart_1):\n\u001b[0;32m--> 163\u001b[0m \tdist_0, dist_1, path, path_len \u001b[38;5;241m=\u001b[39m \u001b[38;5;28;43mself\u001b[39;49m\u001b[38;5;241;43m.\u001b[39;49m\u001b[43mapproximate_shortest_path\u001b[49m\u001b[43m(\u001b[49m\u001b[43mxi_0\u001b[49m\u001b[43m,\u001b[49m\n\u001b[1;32m    164\u001b[0m \u001b[43m\t\t\t\t\t\t\u001b[49m\u001b[43mchart_0\u001b[49m\u001b[43m,\u001b[49m\u001b[43m \u001b[49m\u001b[43mxi_1\u001b[49m\u001b[43m,\u001b[49m\n\u001b[1;32m    165\u001b[0m \u001b[43m\t\t\t\t\t\t\u001b[49m\u001b[43mchart_1\u001b[49m\u001b[43m)\u001b[49m\n\u001b[1;32m    166\u001b[0m \txi_prime \u001b[38;5;241m=\u001b[39m np\u001b[38;5;241m.\u001b[39mzeros(\u001b[38;5;241m2\u001b[39m)\n\u001b[1;32m    167\u001b[0m \txi_dequeue \u001b[38;5;241m=\u001b[39m xi_1\u001b[38;5;241m.\u001b[39mcopy()\n",
      "File \u001b[0;32m~/Documents/GitHub/learning_atlas_Graphs/atlas_yao.py:207\u001b[0m, in \u001b[0;36matlas_yao.approximate_shortest_path\u001b[0;34m(self, xi_0, chart_0, xi_1, chart_1)\u001b[0m\n\u001b[1;32m    205\u001b[0m dist_0 \u001b[38;5;241m=\u001b[39m np\u001b[38;5;241m.\u001b[39mlinalg\u001b[38;5;241m.\u001b[39mnorm(x_0 \u001b[38;5;241m-\u001b[39m x_prime_0)\n\u001b[1;32m    206\u001b[0m dist_1 \u001b[38;5;241m=\u001b[39m np\u001b[38;5;241m.\u001b[39mlinalg\u001b[38;5;241m.\u001b[39mnorm(x_1 \u001b[38;5;241m-\u001b[39m x_prime_1)\n\u001b[0;32m--> 207\u001b[0m path_pre, path_len \u001b[38;5;241m=\u001b[39m \u001b[38;5;28;43mself\u001b[39;49m\u001b[38;5;241;43m.\u001b[39;49m\u001b[43mshortest_path_cached\u001b[49m\u001b[43m(\u001b[49m\u001b[43mind_0\u001b[49m\u001b[43m,\u001b[49m\u001b[43m \u001b[49m\u001b[43mind_1\u001b[49m\u001b[43m)\u001b[49m\n\u001b[1;32m    208\u001b[0m path \u001b[38;5;241m=\u001b[39m path_pre\u001b[38;5;241m.\u001b[39mcopy()\n\u001b[1;32m    209\u001b[0m \u001b[38;5;28;01mreturn\u001b[39;00m dist_0, dist_1, path, path_len\n",
      "File \u001b[0;32m~/Documents/GitHub/learning_atlas_Graphs/atlas_yao.py:216\u001b[0m, in \u001b[0;36matlas_yao.shortest_path_cached\u001b[0;34m(self, ind_0, ind_1)\u001b[0m\n\u001b[1;32m    214\u001b[0m \t\u001b[38;5;28;01mreturn\u001b[39;00m \u001b[38;5;28mself\u001b[39m\u001b[38;5;241m.\u001b[39mshortest_path_cache[key]\n\u001b[1;32m    215\u001b[0m \u001b[38;5;28;01mexcept\u001b[39;00m \u001b[38;5;167;01mKeyError\u001b[39;00m:\n\u001b[0;32m--> 216\u001b[0m \tpath \u001b[38;5;241m=\u001b[39m \u001b[43mnx\u001b[49m\u001b[38;5;241;43m.\u001b[39;49m\u001b[43mshortest_path\u001b[49m\u001b[43m(\u001b[49m\u001b[38;5;28;43mself\u001b[39;49m\u001b[38;5;241;43m.\u001b[39;49m\u001b[43mG_brute\u001b[49m\u001b[43m,\u001b[49m\n\u001b[1;32m    217\u001b[0m \u001b[43m\t\t\t\u001b[49m\u001b[43mweight\u001b[49m\u001b[38;5;241;43m=\u001b[39;49m\u001b[38;5;124;43m\"\u001b[39;49m\u001b[38;5;124;43mweight\u001b[39;49m\u001b[38;5;124;43m\"\u001b[39;49m\u001b[43m,\u001b[49m\n\u001b[1;32m    218\u001b[0m \u001b[43m\t\t\t\u001b[49m\u001b[43msource\u001b[49m\u001b[38;5;241;43m=\u001b[39;49m\u001b[43mind_0\u001b[49m\u001b[43m,\u001b[49m\n\u001b[1;32m    219\u001b[0m \u001b[43m\t\t\t\u001b[49m\u001b[43mtarget\u001b[49m\u001b[38;5;241;43m=\u001b[39;49m\u001b[43mind_1\u001b[49m\u001b[43m)\u001b[49m\n\u001b[1;32m    220\u001b[0m \tpath_len \u001b[38;5;241m=\u001b[39m nx\u001b[38;5;241m.\u001b[39mshortest_path_length(\u001b[38;5;28mself\u001b[39m\u001b[38;5;241m.\u001b[39mG_brute,\n\u001b[1;32m    221\u001b[0m \t\t\tweight\u001b[38;5;241m=\u001b[39m\u001b[38;5;124m\"\u001b[39m\u001b[38;5;124mweight\u001b[39m\u001b[38;5;124m\"\u001b[39m,\n\u001b[1;32m    222\u001b[0m \t\t\tsource\u001b[38;5;241m=\u001b[39mind_0,\n\u001b[1;32m    223\u001b[0m \t\t\ttarget\u001b[38;5;241m=\u001b[39mind_1)\n\u001b[1;32m    224\u001b[0m \tvalue \u001b[38;5;241m=\u001b[39m (path, path_len)\n",
      "File \u001b[0;32m~/.local/lib/python3.8/site-packages/networkx/classes/backends.py:145\u001b[0m, in \u001b[0;36m_dispatch.<locals>.wrapper\u001b[0;34m(*args, **kwds)\u001b[0m\n\u001b[1;32m    141\u001b[0m         \u001b[38;5;28;01melse\u001b[39;00m:\n\u001b[1;32m    142\u001b[0m             \u001b[38;5;28;01mraise\u001b[39;00m NetworkXNotImplemented(\n\u001b[1;32m    143\u001b[0m                 \u001b[38;5;124mf\u001b[39m\u001b[38;5;124m\"\u001b[39m\u001b[38;5;124m'\u001b[39m\u001b[38;5;132;01m{\u001b[39;00mname\u001b[38;5;132;01m}\u001b[39;00m\u001b[38;5;124m'\u001b[39m\u001b[38;5;124m not implemented by \u001b[39m\u001b[38;5;132;01m{\u001b[39;00mplugin_name\u001b[38;5;132;01m}\u001b[39;00m\u001b[38;5;124m\"\u001b[39m\n\u001b[1;32m    144\u001b[0m             )\n\u001b[0;32m--> 145\u001b[0m \u001b[38;5;28;01mreturn\u001b[39;00m \u001b[43mfunc\u001b[49m\u001b[43m(\u001b[49m\u001b[38;5;241;43m*\u001b[39;49m\u001b[43margs\u001b[49m\u001b[43m,\u001b[49m\u001b[43m \u001b[49m\u001b[38;5;241;43m*\u001b[39;49m\u001b[38;5;241;43m*\u001b[39;49m\u001b[43mkwds\u001b[49m\u001b[43m)\u001b[49m\n",
      "File \u001b[0;32m~/.local/lib/python3.8/site-packages/networkx/algorithms/shortest_paths/generic.py:169\u001b[0m, in \u001b[0;36mshortest_path\u001b[0;34m(G, source, target, weight, method)\u001b[0m\n\u001b[1;32m    167\u001b[0m     paths \u001b[38;5;241m=\u001b[39m nx\u001b[38;5;241m.\u001b[39mbidirectional_shortest_path(G, source, target)\n\u001b[1;32m    168\u001b[0m \u001b[38;5;28;01melif\u001b[39;00m method \u001b[38;5;241m==\u001b[39m \u001b[38;5;124m\"\u001b[39m\u001b[38;5;124mdijkstra\u001b[39m\u001b[38;5;124m\"\u001b[39m:\n\u001b[0;32m--> 169\u001b[0m     _, paths \u001b[38;5;241m=\u001b[39m \u001b[43mnx\u001b[49m\u001b[38;5;241;43m.\u001b[39;49m\u001b[43mbidirectional_dijkstra\u001b[49m\u001b[43m(\u001b[49m\u001b[43mG\u001b[49m\u001b[43m,\u001b[49m\u001b[43m \u001b[49m\u001b[43msource\u001b[49m\u001b[43m,\u001b[49m\u001b[43m \u001b[49m\u001b[43mtarget\u001b[49m\u001b[43m,\u001b[49m\u001b[43m \u001b[49m\u001b[43mweight\u001b[49m\u001b[43m)\u001b[49m\n\u001b[1;32m    170\u001b[0m \u001b[38;5;28;01melse\u001b[39;00m:  \u001b[38;5;66;03m# method == 'bellman-ford':\u001b[39;00m\n\u001b[1;32m    171\u001b[0m     paths \u001b[38;5;241m=\u001b[39m nx\u001b[38;5;241m.\u001b[39mbellman_ford_path(G, source, target, weight)\n",
      "File \u001b[0;32m~/.local/lib/python3.8/site-packages/networkx/algorithms/shortest_paths/weighted.py:2358\u001b[0m, in \u001b[0;36mbidirectional_dijkstra\u001b[0;34m(G, source, target, weight)\u001b[0m\n\u001b[1;32m   2356\u001b[0m     \u001b[38;5;28;01mcontinue\u001b[39;00m\n\u001b[1;32m   2357\u001b[0m vwLength \u001b[38;5;241m=\u001b[39m dists[\u001b[38;5;28mdir\u001b[39m][v] \u001b[38;5;241m+\u001b[39m cost\n\u001b[0;32m-> 2358\u001b[0m \u001b[38;5;28;01mif\u001b[39;00m \u001b[43mw\u001b[49m\u001b[43m \u001b[49m\u001b[38;5;129;43;01min\u001b[39;49;00m\u001b[43m \u001b[49m\u001b[43mdists\u001b[49m\u001b[43m[\u001b[49m\u001b[38;5;28;43mdir\u001b[39;49m\u001b[43m]\u001b[49m:\n\u001b[1;32m   2359\u001b[0m     \u001b[38;5;28;01mif\u001b[39;00m vwLength \u001b[38;5;241m<\u001b[39m dists[\u001b[38;5;28mdir\u001b[39m][w]:\n\u001b[1;32m   2360\u001b[0m         \u001b[38;5;28;01mraise\u001b[39;00m \u001b[38;5;167;01mValueError\u001b[39;00m(\u001b[38;5;124m\"\u001b[39m\u001b[38;5;124mContradictory paths found: negative weights?\u001b[39m\u001b[38;5;124m\"\u001b[39m)\n",
      "\u001b[0;31mKeyboardInterrupt\u001b[0m: "
     ]
    }
   ],
   "source": [
    "n_iters = 2000\n",
    "dist_max = 2.0\n",
    "\"\"\"\n",
    "output = ka.riemannian_principal_boundary_mod(chart_init_pos=(4, 0),\n",
    "                                        chart_init_neg=(4, 4),\n",
    "                                        n_iters=n_iters,\n",
    "                                        dist_max=dist_max)\n",
    "\"\"\"\n",
    "output =  ka.riemannian_principal_boundary(xi_pos,\n",
    "                                           chart_pos,\n",
    "                                           xi_neg,\n",
    "                                           chart_neg,\n",
    "                                           stepsize=0.1,\n",
    "                                           n_iters=n_iters,\n",
    "                                           dist_max=dist_max)"
   ]
  },
  {
   "cell_type": "code",
   "execution_count": null,
   "metadata": {},
   "outputs": [],
   "source": []
  },
  {
   "cell_type": "code",
   "execution_count": null,
   "metadata": {},
   "outputs": [],
   "source": [
    "xi_pos_list, chart_pos_list, xi_prime_pos_list, xi_neg_list, chart_neg_list, xi_prime_neg_list, xi_bou_list, chart_bou_list, xi_prime_bou_list, xi_prime_bou_pos_list, xi_prime_bou_neg_list = output"
   ]
  }
 ],
 "metadata": {
  "kernelspec": {
   "display_name": "Python 3 (ipykernel)",
   "language": "python",
   "name": "python3"
  },
  "language_info": {
   "codemirror_mode": {
    "name": "ipython",
    "version": 3
   },
   "file_extension": ".py",
   "mimetype": "text/x-python",
   "name": "python",
   "nbconvert_exporter": "python",
   "pygments_lexer": "ipython3",
   "version": "3.8.10"
  }
 },
 "nbformat": 4,
 "nbformat_minor": 4
}
