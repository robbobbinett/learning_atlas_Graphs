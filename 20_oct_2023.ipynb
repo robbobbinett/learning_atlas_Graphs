{
 "cells": [
  {
   "cell_type": "code",
   "execution_count": 1,
   "metadata": {},
   "outputs": [],
   "source": [
    "%matplotlib inline\n",
    "\n",
    "import numpy as np\n",
    "import matplotlib.pyplot as plt\n",
    "from sklearn.metrics.pairwise import euclidean_distances\n",
    "\n",
    "from atlas_yao import *"
   ]
  },
  {
   "cell_type": "code",
   "execution_count": 2,
   "metadata": {},
   "outputs": [],
   "source": [
    "data_dir = \"data/klein\"\n",
    "\n",
    "Vecs = np.load(data_dir+\"/klein_uniform_1000.npy\")\n",
    "patches_pos = np.load(data_dir+\"/patches_pos_razor_big.npy\")\n",
    "patches_neg = np.load(data_dir+\"/patches_neg_razor_big.npy\")\n",
    "\n",
    "vecs_pos = []\n",
    "vecs_neg = []\n",
    "for j in range(patches_pos.shape[0]):\n",
    "    vecs_pos.append(patches_pos[j, :, :].reshape(9))\n",
    "    vecs_neg.append(patches_neg[j, :, :].reshape(9))\n",
    "Vecs_pos = np.vstack(vecs_pos)\n",
    "Vecs_neg = np.vstack(vecs_neg)"
   ]
  },
  {
   "cell_type": "code",
   "execution_count": null,
   "metadata": {},
   "outputs": [
    {
     "name": "stderr",
     "output_type": "stream",
     "text": [
      "\r",
      "  0%|          | 0/1000 [00:00<?, ?it/s]"
     ]
    },
    {
     "name": "stdout",
     "output_type": "stream",
     "text": [
      "Getting graph as sparse matrix...\n",
      "Done\n",
      "Getting graph from sparse matrix...\n",
      "Done\n",
      "Generating distance matrix...\n"
     ]
    },
    {
     "name": "stderr",
     "output_type": "stream",
     "text": [
      "  9%|▊         | 86/1000 [16:36<2:46:22, 10.92s/it]"
     ]
    }
   ],
   "source": [
    "# Number of charts inspired by previous notebook\n",
    "n_charts = 64\n",
    "km_max_iter = 1000\n",
    "\n",
    "ka = atlas_yao(Vecs, Vecs_pos, Vecs_neg, n_charts,\n",
    "              km_max_iter=km_max_iter)"
   ]
  },
  {
   "cell_type": "code",
   "execution_count": null,
   "metadata": {},
   "outputs": [],
   "source": [
    "# Get initial points for RPB\n",
    "### Get random positive point\n",
    "np.random.seed(600)\n",
    "n_pos = Vecs_pos.shape[0]\n",
    "ind_pos = np.random.randint(n_pos)\n",
    "x_pos = Vecs_pos[ind_pos, :]\n",
    "### Get closest negative point\n",
    "X_pos = X_pos.reshape((1, 9))\n",
    "dist_vec = euclidean_distances(X_pos, Vecs_neg)[0, :]\n",
    "n_neg = Vecs_neg.shape[0]\n",
    "ind_neg = np.random.randint(n_neg)\n",
    "x_neg = Vecs_neg[ind_neg, :]\n",
    "\n",
    "# Ingest x_pos, x_neg into atlas graph coordinates\n",
    "xi_pos, chart_pos = ka.ingest_ambient_point(x_pos)\n",
    "xi_neg, chart_neg = ka.ingest_ambient_point(x_neg)"
   ]
  },
  {
   "cell_type": "code",
   "execution_count": null,
   "metadata": {},
   "outputs": [],
   "source": [
    "n_iters = 2000\n",
    "dist_max = 2.0\n",
    "\"\"\"\n",
    "output = ka.riemannian_principal_boundary_mod(chart_init_pos=(4, 0),\n",
    "                                        chart_init_neg=(4, 4),\n",
    "                                        n_iters=n_iters,\n",
    "                                        dist_max=dist_max)\n",
    "\"\"\"\n",
    "output =  ka.riemannian_principal_boundary(xi_pos,\n",
    "                                           chart_pos,\n",
    "                                           xi_neg,\n",
    "                                           chart_neg,\n",
    "                                           stepsize=0.1,\n",
    "                                           n_iters=n_iters,\n",
    "                                           dist_max=dist_max)"
   ]
  },
  {
   "cell_type": "code",
   "execution_count": null,
   "metadata": {},
   "outputs": [],
   "source": [
    "xi_pos_list, chart_pos_list, xi_prime_pos_list, xi_neg_list, chart_neg_list, xi_prime_neg_list, xi_bou_list, chart_bou_list, xi_prime_bou_list, xi_prime_bou_pos_list, xi_prime_bou_neg_list = output"
   ]
  }
 ],
 "metadata": {
  "kernelspec": {
   "display_name": "Python 3",
   "language": "python",
   "name": "python3"
  },
  "language_info": {
   "codemirror_mode": {
    "name": "ipython",
    "version": 3
   },
   "file_extension": ".py",
   "mimetype": "text/x-python",
   "name": "python",
   "nbconvert_exporter": "python",
   "pygments_lexer": "ipython3",
   "version": "3.8.10"
  }
 },
 "nbformat": 4,
 "nbformat_minor": 4
}
