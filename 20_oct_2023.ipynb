{
 "cells": [
  {
   "cell_type": "code",
   "execution_count": 1,
   "metadata": {},
   "outputs": [],
   "source": [
    "%matplotlib inline\n",
    "\n",
    "import numpy as np\n",
    "import matplotlib.pyplot as plt\n",
    "from sklearn.metrics.pairwise import euclidean_distances\n",
    "\n",
    "from atlas_yao import *"
   ]
  },
  {
   "cell_type": "code",
   "execution_count": 2,
   "metadata": {},
   "outputs": [
    {
     "name": "stdout",
     "output_type": "stream",
     "text": [
      "(1000, 9)\n",
      "(1000, 9)\n"
     ]
    }
   ],
   "source": [
    "data_dir = \"data/klein\"\n",
    "\n",
    "Vecs = np.load(data_dir+\"/klein_uniform_1000.npy\")\n",
    "#Vecs = np.load(data_dir+\"/klein_uniform_100.npy\")\n",
    "patches_pos = np.load(data_dir+\"/patches_pos_razor_big.npy\")\n",
    "patches_neg = np.load(data_dir+\"/patches_neg_razor_big.npy\")\n",
    "\n",
    "vecs_pos = []\n",
    "vecs_neg = []\n",
    "for j in range(patches_pos.shape[0]):\n",
    "    vecs_pos.append(patches_pos[j, :, :].reshape(9))\n",
    "    vecs_neg.append(patches_neg[j, :, :].reshape(9))\n",
    "Vecs_pos = np.vstack(vecs_pos)\n",
    "Vecs_neg = np.vstack(vecs_neg)\n",
    "\n",
    "print(Vecs_pos.shape)\n",
    "print(Vecs_neg.shape)"
   ]
  },
  {
   "cell_type": "code",
   "execution_count": 3,
   "metadata": {},
   "outputs": [
    {
     "name": "stdout",
     "output_type": "stream",
     "text": [
      "Getting graph as sparse matrix...\n",
      "Done\n",
      "Getting graph from sparse matrix...\n",
      "Done\n",
      "Done\n",
      "Constructing enormous graph for brute-force geodesic approximation.\n",
      "Trying eps = 0.6\n"
     ]
    },
    {
     "name": "stderr",
     "output_type": "stream",
     "text": [
      "100%|█████████████████████████████████████████████████████████████████████████████████████████████████████████████████████████████████████████████████████████████████████████████████████████████████████████| 64/64 [00:01<00:00, 58.50it/s]\n",
      "100%|██████████████████████████████████████████████████████████████████████████████████████████████████████████████████████████████████████████████████████████████████████████████████████████████████| 41360/41360 [06:36<00:00, 104.41it/s]\n"
     ]
    }
   ],
   "source": [
    "# Number of charts inspired by previous notebook\n",
    "n_charts = 64\n",
    "km_max_iter = 1000\n",
    "grid_len = 30\n",
    "\n",
    "ka = atlas_yao(Vecs, Vecs_pos, Vecs_neg, n_charts,\n",
    "              km_max_iter=km_max_iter,\n",
    "              grid_len=grid_len,\n",
    "              load_dist_mat=True)"
   ]
  },
  {
   "cell_type": "code",
   "execution_count": 4,
   "metadata": {},
   "outputs": [],
   "source": [
    "# Get initial points for RPB\n",
    "### Get random positive point\n",
    "np.random.seed(600)\n",
    "n_pos = Vecs_pos.shape[0]\n",
    "ind_pos = np.random.randint(n_pos)\n",
    "x_pos = Vecs_pos[ind_pos, :]\n",
    "### Get closest negative point\n",
    "X_pos = x_pos.reshape((1, 9))\n",
    "dist_vec = euclidean_distances(X_pos, Vecs_neg)[0, :]\n",
    "n_neg = Vecs_neg.shape[0]\n",
    "ind_neg = np.random.randint(n_neg)\n",
    "x_neg = Vecs_neg[ind_neg, :]\n",
    "\n",
    "# Ingest x_pos, x_neg into atlas graph coordinates\n",
    "xi_pos, chart_pos = ka.ingest_ambient_point(x_pos)\n",
    "xi_neg, chart_neg = ka.ingest_ambient_point(x_neg)"
   ]
  },
  {
   "cell_type": "code",
   "execution_count": 5,
   "metadata": {},
   "outputs": [
    {
     "name": "stderr",
     "output_type": "stream",
     "text": [
      "\r",
      "  0%|                                                                                                                                                                                                                | 0/2000 [00:00<?, ?it/s]"
     ]
    },
    {
     "name": "stdout",
     "output_type": "stream",
     "text": [
      "Neg time: 2.0485284328460693\n",
      "Pos time: 2.3479063510894775\n",
      "Pos transport time: 4.75810432434082\n"
     ]
    },
    {
     "name": "stderr",
     "output_type": "stream",
     "text": [
      "\r",
      "  0%|                                                                                                                                                                                                      | 1/2000 [00:13<7:44:24, 13.94s/it]"
     ]
    },
    {
     "name": "stdout",
     "output_type": "stream",
     "text": [
      "Neg transport time: 4.783691167831421\n",
      "Boundary fun time: 6.365776062011719e-05\n",
      "Iterate storage time: 0.0001552104949951172\n",
      "Neg time: 81.04838061332703\n",
      "Pos time: 84.48388695716858\n",
      "Pos transport time: 4.863436698913574\n"
     ]
    },
    {
     "name": "stderr",
     "output_type": "stream",
     "text": [
      "\r",
      "  0%|▏                                                                                                                                                                                                   | 2/2000 [03:09<60:20:47, 108.73s/it]"
     ]
    },
    {
     "name": "stdout",
     "output_type": "stream",
     "text": [
      "Neg transport time: 4.690964937210083\n",
      "Boundary fun time: 0.0003197193145751953\n",
      "Iterate storage time: 5.9604644775390625e-06\n",
      "Neg time: 80.29518818855286\n",
      "Pos time: 78.38463997840881\n",
      "Pos transport time: 5.293054819107056\n"
     ]
    },
    {
     "name": "stderr",
     "output_type": "stream",
     "text": [
      "\r",
      "  0%|▎                                                                                                                                                                                                   | 3/2000 [05:57<75:32:13, 136.17s/it]"
     ]
    },
    {
     "name": "stdout",
     "output_type": "stream",
     "text": [
      "Neg transport time: 4.848647594451904\n",
      "Boundary fun time: 6.508827209472656e-05\n",
      "Iterate storage time: 6.198883056640625e-06\n",
      "Neg time: 86.29346776008606\n",
      "Pos time: 73.60803508758545\n",
      "Pos transport time: 5.017688512802124\n"
     ]
    },
    {
     "name": "stderr",
     "output_type": "stream",
     "text": [
      "\r",
      "  0%|▍                                                                                                                                                                                                   | 4/2000 [08:47<82:51:09, 149.43s/it]"
     ]
    },
    {
     "name": "stdout",
     "output_type": "stream",
     "text": [
      "Neg transport time: 4.844358682632446\n",
      "Boundary fun time: 0.0002155303955078125\n",
      "Iterate storage time: 5.0067901611328125e-06\n",
      "Neg time: 92.43582725524902\n",
      "Pos time: 68.75523042678833\n",
      "Pos transport time: 4.952892780303955\n"
     ]
    },
    {
     "name": "stderr",
     "output_type": "stream",
     "text": [
      "\r",
      "  0%|▍                                                                                                                                                                                                   | 5/2000 [11:38<87:07:06, 157.21s/it]"
     ]
    },
    {
     "name": "stdout",
     "output_type": "stream",
     "text": [
      "Neg transport time: 4.843424081802368\n",
      "Boundary fun time: 6.103515625e-05\n",
      "Iterate storage time: 7.3909759521484375e-06\n",
      "Neg time: 95.9594783782959\n",
      "Pos time: 69.50079894065857\n",
      "Pos transport time: 5.520999908447266\n"
     ]
    },
    {
     "name": "stderr",
     "output_type": "stream",
     "text": [
      "\r",
      "  0%|▌                                                                                                                                                                                                   | 6/2000 [14:34<90:35:02, 163.54s/it]"
     ]
    },
    {
     "name": "stdout",
     "output_type": "stream",
     "text": [
      "Neg transport time: 4.8573408126831055\n",
      "Boundary fun time: 0.00019431114196777344\n",
      "Iterate storage time: 5.9604644775390625e-06\n"
     ]
    },
    {
     "name": "stderr",
     "output_type": "stream",
     "text": [
      "  0%|▌                                                                                                                                                                                                   | 6/2000 [15:13<84:19:09, 152.23s/it]\n"
     ]
    },
    {
     "ename": "KeyboardInterrupt",
     "evalue": "",
     "output_type": "error",
     "traceback": [
      "\u001b[0;31m---------------------------------------------------------------------------\u001b[0m",
      "\u001b[0;31mKeyError\u001b[0m                                  Traceback (most recent call last)",
      "File \u001b[0;32m~/Documents/GitHub/learning_atlas_Graphs/atlas_yao.py:224\u001b[0m, in \u001b[0;36matlas_yao.shortest_path_cached\u001b[0;34m(self, ind_0, ind_1)\u001b[0m\n\u001b[1;32m    223\u001b[0m \u001b[38;5;28;01mtry\u001b[39;00m:\n\u001b[0;32m--> 224\u001b[0m \t\u001b[38;5;28;01mreturn\u001b[39;00m \u001b[38;5;28;43mself\u001b[39;49m\u001b[38;5;241;43m.\u001b[39;49m\u001b[43mshortest_path_cache\u001b[49m\u001b[43m[\u001b[49m\u001b[43mkey\u001b[49m\u001b[43m]\u001b[49m\n\u001b[1;32m    225\u001b[0m \u001b[38;5;28;01mexcept\u001b[39;00m \u001b[38;5;167;01mKeyError\u001b[39;00m:\n",
      "\u001b[0;31mKeyError\u001b[0m: (29482, 10826)",
      "\nDuring handling of the above exception, another exception occurred:\n",
      "\u001b[0;31mKeyboardInterrupt\u001b[0m                         Traceback (most recent call last)",
      "Cell \u001b[0;32mIn[5], line 9\u001b[0m\n\u001b[1;32m      2\u001b[0m dist_max \u001b[38;5;241m=\u001b[39m \u001b[38;5;241m2.0\u001b[39m\n\u001b[1;32m      3\u001b[0m \u001b[38;5;124;03m\"\"\"\u001b[39;00m\n\u001b[1;32m      4\u001b[0m \u001b[38;5;124;03moutput = ka.riemannian_principal_boundary_mod(chart_init_pos=(4, 0),\u001b[39;00m\n\u001b[1;32m      5\u001b[0m \u001b[38;5;124;03m                                        chart_init_neg=(4, 4),\u001b[39;00m\n\u001b[1;32m      6\u001b[0m \u001b[38;5;124;03m                                        n_iters=n_iters,\u001b[39;00m\n\u001b[1;32m      7\u001b[0m \u001b[38;5;124;03m                                        dist_max=dist_max)\u001b[39;00m\n\u001b[1;32m      8\u001b[0m \u001b[38;5;124;03m\"\"\"\u001b[39;00m\n\u001b[0;32m----> 9\u001b[0m output \u001b[38;5;241m=\u001b[39m  \u001b[43mka\u001b[49m\u001b[38;5;241;43m.\u001b[39;49m\u001b[43mriemannian_principal_boundary\u001b[49m\u001b[43m(\u001b[49m\u001b[43mxi_pos\u001b[49m\u001b[43m,\u001b[49m\n\u001b[1;32m     10\u001b[0m \u001b[43m                                           \u001b[49m\u001b[43mchart_pos\u001b[49m\u001b[43m,\u001b[49m\n\u001b[1;32m     11\u001b[0m \u001b[43m                                           \u001b[49m\u001b[43mxi_neg\u001b[49m\u001b[43m,\u001b[49m\n\u001b[1;32m     12\u001b[0m \u001b[43m                                           \u001b[49m\u001b[43mchart_neg\u001b[49m\u001b[43m,\u001b[49m\n\u001b[1;32m     13\u001b[0m \u001b[43m                                           \u001b[49m\u001b[43mstepsize\u001b[49m\u001b[38;5;241;43m=\u001b[39;49m\u001b[38;5;241;43m0.1\u001b[39;49m\u001b[43m,\u001b[49m\n\u001b[1;32m     14\u001b[0m \u001b[43m                                           \u001b[49m\u001b[43mn_iters\u001b[49m\u001b[38;5;241;43m=\u001b[39;49m\u001b[43mn_iters\u001b[49m\u001b[43m,\u001b[49m\n\u001b[1;32m     15\u001b[0m \u001b[43m                                           \u001b[49m\u001b[43mdist_max\u001b[49m\u001b[38;5;241;43m=\u001b[39;49m\u001b[43mdist_max\u001b[49m\u001b[43m)\u001b[49m\n",
      "File \u001b[0;32m~/Documents/GitHub/learning_atlas_Graphs/atlas_yao.py:333\u001b[0m, in \u001b[0;36matlas_yao.riemannian_principal_boundary\u001b[0;34m(self, xi_init_pos, chart_init_pos, xi_init_neg, chart_init_neg, stepsize, n_iters, dist_max)\u001b[0m\n\u001b[1;32m    330\u001b[0m \u001b[38;5;28;01mfor\u001b[39;00m j \u001b[38;5;129;01min\u001b[39;00m tqdm(\u001b[38;5;28mrange\u001b[39m(n_iters)):\n\u001b[1;32m    331\u001b[0m \t\u001b[38;5;66;03m# Perform first steps\u001b[39;00m\n\u001b[1;32m    332\u001b[0m \tstart \u001b[38;5;241m=\u001b[39m time()\n\u001b[0;32m--> 333\u001b[0m \txi_neg, chart_neg, amb_prev_neg, xi_prime_neg \u001b[38;5;241m=\u001b[39m \u001b[38;5;28;43mself\u001b[39;49m\u001b[38;5;241;43m.\u001b[39;49m\u001b[43mprincipal_flow_neg_iter\u001b[49m\u001b[43m(\u001b[49m\u001b[43mxi_neg\u001b[49m\u001b[43m,\u001b[49m\n\u001b[1;32m    334\u001b[0m \u001b[43m\t\t\t\t\u001b[49m\u001b[43mchart_neg\u001b[49m\u001b[43m,\u001b[49m\u001b[43m \u001b[49m\u001b[43mstepsize\u001b[49m\u001b[43m,\u001b[49m\n\u001b[1;32m    335\u001b[0m \u001b[43m\t\t\t\t\u001b[49m\u001b[43mdist_max\u001b[49m\u001b[38;5;241;43m=\u001b[39;49m\u001b[43mdist_max\u001b[49m\u001b[43m,\u001b[49m\n\u001b[1;32m    336\u001b[0m \u001b[43m\t\t\t\t\u001b[49m\u001b[43mamb_prev\u001b[49m\u001b[38;5;241;43m=\u001b[39;49m\u001b[43mamb_prev_neg\u001b[49m\u001b[43m)\u001b[49m\n\u001b[1;32m    337\u001b[0m \t\u001b[38;5;28mprint\u001b[39m(\u001b[38;5;124m\"\u001b[39m\u001b[38;5;124mNeg time: \u001b[39m\u001b[38;5;124m\"\u001b[39m\u001b[38;5;241m+\u001b[39m\u001b[38;5;28mstr\u001b[39m(time() \u001b[38;5;241m-\u001b[39m start))\n\u001b[1;32m    338\u001b[0m \tstart \u001b[38;5;241m=\u001b[39m time()\n",
      "File \u001b[0;32m~/Documents/GitHub/learning_atlas_Graphs/atlas_yao.py:522\u001b[0m, in \u001b[0;36matlas_yao.principal_flow_neg_iter\u001b[0;34m(self, xi, chart, stepsize, amb_prev, dist_max)\u001b[0m\n\u001b[1;32m    520\u001b[0m \u001b[38;5;28;01mdef\u001b[39;00m \u001b[38;5;21mprincipal_flow_neg_iter\u001b[39m(\u001b[38;5;28mself\u001b[39m, xi, chart, stepsize,\n\u001b[1;32m    521\u001b[0m \t\t\t\tamb_prev\u001b[38;5;241m=\u001b[39m\u001b[38;5;28;01mNone\u001b[39;00m, dist_max\u001b[38;5;241m=\u001b[39m\u001b[38;5;241m1.0\u001b[39m):\n\u001b[0;32m--> 522\u001b[0m \tV, xi_prime_mean \u001b[38;5;241m=\u001b[39m \u001b[38;5;28;43mself\u001b[39;49m\u001b[38;5;241;43m.\u001b[39;49m\u001b[43mevaluate_neg_flow_spectrum\u001b[49m\u001b[43m(\u001b[49m\u001b[43mxi\u001b[49m\u001b[43m,\u001b[49m\n\u001b[1;32m    523\u001b[0m \u001b[43m\t\t\t\t\u001b[49m\u001b[43mchart\u001b[49m\u001b[43m,\u001b[49m\u001b[43m \u001b[49m\u001b[43mdist_max\u001b[49m\u001b[38;5;241;43m=\u001b[39;49m\u001b[43mdist_max\u001b[49m\u001b[43m)\u001b[49m\n\u001b[1;32m    524\u001b[0m \t\u001b[38;5;28;01mif\u001b[39;00m \u001b[38;5;28misinstance\u001b[39m(amb_prev, NoneType):\n\u001b[1;32m    525\u001b[0m \t\txi_prime \u001b[38;5;241m=\u001b[39m V[:, \u001b[38;5;241m1\u001b[39m]\n",
      "File \u001b[0;32m~/Documents/GitHub/learning_atlas_Graphs/atlas_yao.py:155\u001b[0m, in \u001b[0;36matlas_yao.evaluate_neg_flow_spectrum\u001b[0;34m(self, xi_0, chart, dist_max)\u001b[0m\n\u001b[1;32m    153\u001b[0m chart_otra \u001b[38;5;241m=\u001b[39m \u001b[38;5;28mself\u001b[39m\u001b[38;5;241m.\u001b[39mchart_assignments_neg[j]\n\u001b[1;32m    154\u001b[0m xi_otra \u001b[38;5;241m=\u001b[39m \u001b[38;5;28mself\u001b[39m\u001b[38;5;241m.\u001b[39mXi_neg_dict[chart_otra][j, :]\n\u001b[0;32m--> 155\u001b[0m xi_prime, dist \u001b[38;5;241m=\u001b[39m \u001b[38;5;28;43mself\u001b[39;49m\u001b[38;5;241;43m.\u001b[39;49m\u001b[43mlogarithm_through_graph\u001b[49m\u001b[43m(\u001b[49m\u001b[43mxi_0\u001b[49m\u001b[43m,\u001b[49m\n\u001b[1;32m    156\u001b[0m \u001b[43m\t\t\t\u001b[49m\u001b[43mchart\u001b[49m\u001b[43m,\u001b[49m\u001b[43m \u001b[49m\u001b[43mxi_otra\u001b[49m\u001b[43m,\u001b[49m\n\u001b[1;32m    157\u001b[0m \u001b[43m\t\t\t\u001b[49m\u001b[43mchart_otra\u001b[49m\u001b[43m)\u001b[49m\n\u001b[1;32m    158\u001b[0m \u001b[38;5;28;01mif\u001b[39;00m dist \u001b[38;5;241m<\u001b[39m\u001b[38;5;241m=\u001b[39m dist_max:\n\u001b[1;32m    159\u001b[0m \tkern_coeff \u001b[38;5;241m=\u001b[39m \u001b[38;5;28mself\u001b[39m\u001b[38;5;241m.\u001b[39mkernel(dist)\n",
      "File \u001b[0;32m~/Documents/GitHub/learning_atlas_Graphs/atlas_yao.py:173\u001b[0m, in \u001b[0;36matlas_yao.logarithm_through_graph\u001b[0;34m(self, xi_0, chart_0, xi_1, chart_1)\u001b[0m\n\u001b[1;32m    172\u001b[0m \u001b[38;5;28;01mdef\u001b[39;00m \u001b[38;5;21mlogarithm_through_graph\u001b[39m(\u001b[38;5;28mself\u001b[39m, xi_0, chart_0, xi_1, chart_1):\n\u001b[0;32m--> 173\u001b[0m \tdist_0, dist_1, path, path_len \u001b[38;5;241m=\u001b[39m \u001b[38;5;28;43mself\u001b[39;49m\u001b[38;5;241;43m.\u001b[39;49m\u001b[43mapproximate_shortest_path\u001b[49m\u001b[43m(\u001b[49m\u001b[43mxi_0\u001b[49m\u001b[43m,\u001b[49m\n\u001b[1;32m    174\u001b[0m \u001b[43m\t\t\t\t\t\t\u001b[49m\u001b[43mchart_0\u001b[49m\u001b[43m,\u001b[49m\u001b[43m \u001b[49m\u001b[43mxi_1\u001b[49m\u001b[43m,\u001b[49m\n\u001b[1;32m    175\u001b[0m \u001b[43m\t\t\t\t\t\t\u001b[49m\u001b[43mchart_1\u001b[49m\u001b[43m)\u001b[49m\n\u001b[1;32m    176\u001b[0m \txi_prime \u001b[38;5;241m=\u001b[39m np\u001b[38;5;241m.\u001b[39mzeros(\u001b[38;5;241m2\u001b[39m)\n\u001b[1;32m    177\u001b[0m \txi_dequeue \u001b[38;5;241m=\u001b[39m xi_1\u001b[38;5;241m.\u001b[39mcopy()\n",
      "File \u001b[0;32m~/Documents/GitHub/learning_atlas_Graphs/atlas_yao.py:217\u001b[0m, in \u001b[0;36matlas_yao.approximate_shortest_path\u001b[0;34m(self, xi_0, chart_0, xi_1, chart_1)\u001b[0m\n\u001b[1;32m    215\u001b[0m dist_0 \u001b[38;5;241m=\u001b[39m np\u001b[38;5;241m.\u001b[39mlinalg\u001b[38;5;241m.\u001b[39mnorm(x_0 \u001b[38;5;241m-\u001b[39m x_prime_0)\n\u001b[1;32m    216\u001b[0m dist_1 \u001b[38;5;241m=\u001b[39m np\u001b[38;5;241m.\u001b[39mlinalg\u001b[38;5;241m.\u001b[39mnorm(x_1 \u001b[38;5;241m-\u001b[39m x_prime_1)\n\u001b[0;32m--> 217\u001b[0m path_pre, path_len \u001b[38;5;241m=\u001b[39m \u001b[38;5;28;43mself\u001b[39;49m\u001b[38;5;241;43m.\u001b[39;49m\u001b[43mshortest_path_cached\u001b[49m\u001b[43m(\u001b[49m\u001b[43mind_0\u001b[49m\u001b[43m,\u001b[49m\u001b[43m \u001b[49m\u001b[43mind_1\u001b[49m\u001b[43m)\u001b[49m\n\u001b[1;32m    218\u001b[0m path \u001b[38;5;241m=\u001b[39m path_pre\u001b[38;5;241m.\u001b[39mcopy()\n\u001b[1;32m    219\u001b[0m \u001b[38;5;28;01mreturn\u001b[39;00m dist_0, dist_1, path, path_len\n",
      "File \u001b[0;32m~/Documents/GitHub/learning_atlas_Graphs/atlas_yao.py:230\u001b[0m, in \u001b[0;36matlas_yao.shortest_path_cached\u001b[0;34m(self, ind_0, ind_1)\u001b[0m\n\u001b[1;32m    225\u001b[0m \u001b[38;5;28;01mexcept\u001b[39;00m \u001b[38;5;167;01mKeyError\u001b[39;00m:\n\u001b[1;32m    226\u001b[0m \tpath \u001b[38;5;241m=\u001b[39m nx\u001b[38;5;241m.\u001b[39mshortest_path(\u001b[38;5;28mself\u001b[39m\u001b[38;5;241m.\u001b[39mG_brute,\n\u001b[1;32m    227\u001b[0m \t\t\tweight\u001b[38;5;241m=\u001b[39m\u001b[38;5;124m\"\u001b[39m\u001b[38;5;124mweight\u001b[39m\u001b[38;5;124m\"\u001b[39m,\n\u001b[1;32m    228\u001b[0m \t\t\tsource\u001b[38;5;241m=\u001b[39mind_0,\n\u001b[1;32m    229\u001b[0m \t\t\ttarget\u001b[38;5;241m=\u001b[39mind_1)\n\u001b[0;32m--> 230\u001b[0m \tpath_len \u001b[38;5;241m=\u001b[39m \u001b[43mnx\u001b[49m\u001b[38;5;241;43m.\u001b[39;49m\u001b[43mshortest_path_length\u001b[49m\u001b[43m(\u001b[49m\u001b[38;5;28;43mself\u001b[39;49m\u001b[38;5;241;43m.\u001b[39;49m\u001b[43mG_brute\u001b[49m\u001b[43m,\u001b[49m\n\u001b[1;32m    231\u001b[0m \u001b[43m\t\t\t\u001b[49m\u001b[43mweight\u001b[49m\u001b[38;5;241;43m=\u001b[39;49m\u001b[38;5;124;43m\"\u001b[39;49m\u001b[38;5;124;43mweight\u001b[39;49m\u001b[38;5;124;43m\"\u001b[39;49m\u001b[43m,\u001b[49m\n\u001b[1;32m    232\u001b[0m \u001b[43m\t\t\t\u001b[49m\u001b[43msource\u001b[49m\u001b[38;5;241;43m=\u001b[39;49m\u001b[43mind_0\u001b[49m\u001b[43m,\u001b[49m\n\u001b[1;32m    233\u001b[0m \u001b[43m\t\t\t\u001b[49m\u001b[43mtarget\u001b[49m\u001b[38;5;241;43m=\u001b[39;49m\u001b[43mind_1\u001b[49m\u001b[43m)\u001b[49m\n\u001b[1;32m    234\u001b[0m \tvalue \u001b[38;5;241m=\u001b[39m (path, path_len)\n\u001b[1;32m    235\u001b[0m \t\u001b[38;5;28mself\u001b[39m\u001b[38;5;241m.\u001b[39mshortest_path_cache[key] \u001b[38;5;241m=\u001b[39m value\n",
      "File \u001b[0;32m~/.local/lib/python3.8/site-packages/networkx/classes/backends.py:145\u001b[0m, in \u001b[0;36m_dispatch.<locals>.wrapper\u001b[0;34m(*args, **kwds)\u001b[0m\n\u001b[1;32m    141\u001b[0m         \u001b[38;5;28;01melse\u001b[39;00m:\n\u001b[1;32m    142\u001b[0m             \u001b[38;5;28;01mraise\u001b[39;00m NetworkXNotImplemented(\n\u001b[1;32m    143\u001b[0m                 \u001b[38;5;124mf\u001b[39m\u001b[38;5;124m\"\u001b[39m\u001b[38;5;124m'\u001b[39m\u001b[38;5;132;01m{\u001b[39;00mname\u001b[38;5;132;01m}\u001b[39;00m\u001b[38;5;124m'\u001b[39m\u001b[38;5;124m not implemented by \u001b[39m\u001b[38;5;132;01m{\u001b[39;00mplugin_name\u001b[38;5;132;01m}\u001b[39;00m\u001b[38;5;124m\"\u001b[39m\n\u001b[1;32m    144\u001b[0m             )\n\u001b[0;32m--> 145\u001b[0m \u001b[38;5;28;01mreturn\u001b[39;00m \u001b[43mfunc\u001b[49m\u001b[43m(\u001b[49m\u001b[38;5;241;43m*\u001b[39;49m\u001b[43margs\u001b[49m\u001b[43m,\u001b[49m\u001b[43m \u001b[49m\u001b[38;5;241;43m*\u001b[39;49m\u001b[38;5;241;43m*\u001b[39;49m\u001b[43mkwds\u001b[49m\u001b[43m)\u001b[49m\n",
      "File \u001b[0;32m~/.local/lib/python3.8/site-packages/networkx/algorithms/shortest_paths/generic.py:313\u001b[0m, in \u001b[0;36mshortest_path_length\u001b[0;34m(G, source, target, weight, method)\u001b[0m\n\u001b[1;32m    311\u001b[0m     paths \u001b[38;5;241m=\u001b[39m \u001b[38;5;28mlen\u001b[39m(p) \u001b[38;5;241m-\u001b[39m \u001b[38;5;241m1\u001b[39m\n\u001b[1;32m    312\u001b[0m \u001b[38;5;28;01melif\u001b[39;00m method \u001b[38;5;241m==\u001b[39m \u001b[38;5;124m\"\u001b[39m\u001b[38;5;124mdijkstra\u001b[39m\u001b[38;5;124m\"\u001b[39m:\n\u001b[0;32m--> 313\u001b[0m     paths \u001b[38;5;241m=\u001b[39m \u001b[43mnx\u001b[49m\u001b[38;5;241;43m.\u001b[39;49m\u001b[43mdijkstra_path_length\u001b[49m\u001b[43m(\u001b[49m\u001b[43mG\u001b[49m\u001b[43m,\u001b[49m\u001b[43m \u001b[49m\u001b[43msource\u001b[49m\u001b[43m,\u001b[49m\u001b[43m \u001b[49m\u001b[43mtarget\u001b[49m\u001b[43m,\u001b[49m\u001b[43m \u001b[49m\u001b[43mweight\u001b[49m\u001b[43m)\u001b[49m\n\u001b[1;32m    314\u001b[0m \u001b[38;5;28;01melse\u001b[39;00m:  \u001b[38;5;66;03m# method == 'bellman-ford':\u001b[39;00m\n\u001b[1;32m    315\u001b[0m     paths \u001b[38;5;241m=\u001b[39m nx\u001b[38;5;241m.\u001b[39mbellman_ford_path_length(G, source, target, weight)\n",
      "File \u001b[0;32m~/.local/lib/python3.8/site-packages/networkx/algorithms/shortest_paths/weighted.py:234\u001b[0m, in \u001b[0;36mdijkstra_path_length\u001b[0;34m(G, source, target, weight)\u001b[0m\n\u001b[1;32m    232\u001b[0m     \u001b[38;5;28;01mreturn\u001b[39;00m \u001b[38;5;241m0\u001b[39m\n\u001b[1;32m    233\u001b[0m weight \u001b[38;5;241m=\u001b[39m _weight_function(G, weight)\n\u001b[0;32m--> 234\u001b[0m length \u001b[38;5;241m=\u001b[39m \u001b[43m_dijkstra\u001b[49m\u001b[43m(\u001b[49m\u001b[43mG\u001b[49m\u001b[43m,\u001b[49m\u001b[43m \u001b[49m\u001b[43msource\u001b[49m\u001b[43m,\u001b[49m\u001b[43m \u001b[49m\u001b[43mweight\u001b[49m\u001b[43m,\u001b[49m\u001b[43m \u001b[49m\u001b[43mtarget\u001b[49m\u001b[38;5;241;43m=\u001b[39;49m\u001b[43mtarget\u001b[49m\u001b[43m)\u001b[49m\n\u001b[1;32m    235\u001b[0m \u001b[38;5;28;01mtry\u001b[39;00m:\n\u001b[1;32m    236\u001b[0m     \u001b[38;5;28;01mreturn\u001b[39;00m length[target]\n",
      "File \u001b[0;32m~/.local/lib/python3.8/site-packages/networkx/algorithms/shortest_paths/weighted.py:759\u001b[0m, in \u001b[0;36m_dijkstra\u001b[0;34m(G, source, weight, pred, paths, cutoff, target)\u001b[0m\n\u001b[1;32m    750\u001b[0m \u001b[38;5;28;01mdef\u001b[39;00m \u001b[38;5;21m_dijkstra\u001b[39m(G, source, weight, pred\u001b[38;5;241m=\u001b[39m\u001b[38;5;28;01mNone\u001b[39;00m, paths\u001b[38;5;241m=\u001b[39m\u001b[38;5;28;01mNone\u001b[39;00m, cutoff\u001b[38;5;241m=\u001b[39m\u001b[38;5;28;01mNone\u001b[39;00m, target\u001b[38;5;241m=\u001b[39m\u001b[38;5;28;01mNone\u001b[39;00m):\n\u001b[1;32m    751\u001b[0m \u001b[38;5;250m    \u001b[39m\u001b[38;5;124;03m\"\"\"Uses Dijkstra's algorithm to find shortest weighted paths from a\u001b[39;00m\n\u001b[1;32m    752\u001b[0m \u001b[38;5;124;03m    single source.\u001b[39;00m\n\u001b[1;32m    753\u001b[0m \n\u001b[0;32m   (...)\u001b[0m\n\u001b[1;32m    757\u001b[0m \n\u001b[1;32m    758\u001b[0m \u001b[38;5;124;03m    \"\"\"\u001b[39;00m\n\u001b[0;32m--> 759\u001b[0m     \u001b[38;5;28;01mreturn\u001b[39;00m \u001b[43m_dijkstra_multisource\u001b[49m\u001b[43m(\u001b[49m\n\u001b[1;32m    760\u001b[0m \u001b[43m        \u001b[49m\u001b[43mG\u001b[49m\u001b[43m,\u001b[49m\u001b[43m \u001b[49m\u001b[43m[\u001b[49m\u001b[43msource\u001b[49m\u001b[43m]\u001b[49m\u001b[43m,\u001b[49m\u001b[43m \u001b[49m\u001b[43mweight\u001b[49m\u001b[43m,\u001b[49m\u001b[43m \u001b[49m\u001b[43mpred\u001b[49m\u001b[38;5;241;43m=\u001b[39;49m\u001b[43mpred\u001b[49m\u001b[43m,\u001b[49m\u001b[43m \u001b[49m\u001b[43mpaths\u001b[49m\u001b[38;5;241;43m=\u001b[39;49m\u001b[43mpaths\u001b[49m\u001b[43m,\u001b[49m\u001b[43m \u001b[49m\u001b[43mcutoff\u001b[49m\u001b[38;5;241;43m=\u001b[39;49m\u001b[43mcutoff\u001b[49m\u001b[43m,\u001b[49m\u001b[43m \u001b[49m\u001b[43mtarget\u001b[49m\u001b[38;5;241;43m=\u001b[39;49m\u001b[43mtarget\u001b[49m\n\u001b[1;32m    761\u001b[0m \u001b[43m    \u001b[49m\u001b[43m)\u001b[49m\n",
      "File \u001b[0;32m~/.local/lib/python3.8/site-packages/networkx/algorithms/shortest_paths/weighted.py:838\u001b[0m, in \u001b[0;36m_dijkstra_multisource\u001b[0;34m(G, sources, weight, pred, paths, cutoff, target)\u001b[0m\n\u001b[1;32m    836\u001b[0m     \u001b[38;5;28;01mbreak\u001b[39;00m\n\u001b[1;32m    837\u001b[0m \u001b[38;5;28;01mfor\u001b[39;00m u, e \u001b[38;5;129;01min\u001b[39;00m G_succ[v]\u001b[38;5;241m.\u001b[39mitems():\n\u001b[0;32m--> 838\u001b[0m     cost \u001b[38;5;241m=\u001b[39m \u001b[43mweight\u001b[49m\u001b[43m(\u001b[49m\u001b[43mv\u001b[49m\u001b[43m,\u001b[49m\u001b[43m \u001b[49m\u001b[43mu\u001b[49m\u001b[43m,\u001b[49m\u001b[43m \u001b[49m\u001b[43me\u001b[49m\u001b[43m)\u001b[49m\n\u001b[1;32m    839\u001b[0m     \u001b[38;5;28;01mif\u001b[39;00m cost \u001b[38;5;129;01mis\u001b[39;00m \u001b[38;5;28;01mNone\u001b[39;00m:\n\u001b[1;32m    840\u001b[0m         \u001b[38;5;28;01mcontinue\u001b[39;00m\n",
      "File \u001b[0;32m~/.local/lib/python3.8/site-packages/networkx/algorithms/shortest_paths/weighted.py:78\u001b[0m, in \u001b[0;36m_weight_function.<locals>.<lambda>\u001b[0;34m(u, v, data)\u001b[0m\n\u001b[1;32m     76\u001b[0m \u001b[38;5;28;01mif\u001b[39;00m G\u001b[38;5;241m.\u001b[39mis_multigraph():\n\u001b[1;32m     77\u001b[0m     \u001b[38;5;28;01mreturn\u001b[39;00m \u001b[38;5;28;01mlambda\u001b[39;00m u, v, d: \u001b[38;5;28mmin\u001b[39m(attr\u001b[38;5;241m.\u001b[39mget(weight, \u001b[38;5;241m1\u001b[39m) \u001b[38;5;28;01mfor\u001b[39;00m attr \u001b[38;5;129;01min\u001b[39;00m d\u001b[38;5;241m.\u001b[39mvalues())\n\u001b[0;32m---> 78\u001b[0m \u001b[38;5;28;01mreturn\u001b[39;00m \u001b[38;5;28;01mlambda\u001b[39;00m u, v, data: \u001b[43mdata\u001b[49m\u001b[38;5;241;43m.\u001b[39;49m\u001b[43mget\u001b[49m\u001b[43m(\u001b[49m\u001b[43mweight\u001b[49m\u001b[43m,\u001b[49m\u001b[43m \u001b[49m\u001b[38;5;241;43m1\u001b[39;49m\u001b[43m)\u001b[49m\n",
      "\u001b[0;31mKeyboardInterrupt\u001b[0m: "
     ]
    }
   ],
   "source": [
    "n_iters = 200\n",
    "dist_max = 2.0\n",
    "\"\"\"\n",
    "output = ka.riemannian_principal_boundary_mod(chart_init_pos=(4, 0),\n",
    "                                        chart_init_neg=(4, 4),\n",
    "                                        n_iters=n_iters,\n",
    "                                        dist_max=dist_max)\n",
    "\"\"\"\n",
    "output =  ka.riemannian_principal_boundary(xi_pos,\n",
    "                                           chart_pos,\n",
    "                                           xi_neg,\n",
    "                                           chart_neg,\n",
    "                                           stepsize=0.1,\n",
    "                                           n_iters=n_iters,\n",
    "                                           dist_max=dist_max)"
   ]
  },
  {
   "cell_type": "code",
   "execution_count": null,
   "metadata": {},
   "outputs": [],
   "source": []
  },
  {
   "cell_type": "code",
   "execution_count": null,
   "metadata": {},
   "outputs": [],
   "source": [
    "xi_pos_list, chart_pos_list, xi_prime_pos_list, xi_neg_list, chart_neg_list, xi_prime_neg_list, xi_bou_list, chart_bou_list, xi_prime_bou_list, xi_prime_bou_pos_list, xi_prime_bou_neg_list = output\n",
    "\n",
    "names = [\"xi_pos_list\", \"chart_pos_list\", \"xi_prime_pos_list\", \"xi_neg_list\", \"chart_neg_list\", \"xi_prime_neg_list\", \"xi_bou_list\", \"chart_bou_list\", \"xi_prime_bou_list\", \"xi_prime_bou_pos_list\", \"xi_prime_bou_neg_list\"]\n",
    "\n",
    "temp_dir = \"temp_save_\"+str(n_iters)\n",
    "for item, name in zip(output, names):\n",
    "    np.save(temp_dir+\"/\"+name+\".npy\", item)"
   ]
  }
 ],
 "metadata": {
  "kernelspec": {
   "display_name": "Python 3 (ipykernel)",
   "language": "python",
   "name": "python3"
  },
  "language_info": {
   "codemirror_mode": {
    "name": "ipython",
    "version": 3
   },
   "file_extension": ".py",
   "mimetype": "text/x-python",
   "name": "python",
   "nbconvert_exporter": "python",
   "pygments_lexer": "ipython3",
   "version": "3.8.10"
  }
 },
 "nbformat": 4,
 "nbformat_minor": 4
}
