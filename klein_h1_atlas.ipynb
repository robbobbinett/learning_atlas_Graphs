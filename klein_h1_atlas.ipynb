{
 "cells": [
  {
   "cell_type": "code",
   "execution_count": 1,
   "id": "874c20c0",
   "metadata": {},
   "outputs": [],
   "source": [
    "from time import time\n",
    "import numpy as np\n",
    "import matplotlib.pyplot as plt\n",
    "from matplotlib.gridspec import GridSpec\n",
    "from matplotlib.collections import PathCollection\n",
    "from matplotlib.legend import Legend\n",
    "from ripser import ripser\n",
    "#from gudhi import SimplexTree\n",
    "from persim import plot_diagrams\n",
    "from tqdm import tqdm\n",
    "\n",
    "# from yao_utils import *\n",
    "from atlas_general import atlas_general, load_atlas\n",
    "\n",
    "# data_dir = \"data/klein_synthetic\"\n",
    "\n",
    "# # Create atlas-graph representation\n",
    "# patches_pos = np.load(data_dir+\"/patches_pos_razor_big.npy\")\n",
    "# patches_neg = np.load(data_dir+\"/patches_neg_razor_big.npy\")\n",
    "\n",
    "# vecs_pos = []\n",
    "# vecs_neg = []\n",
    "# for j in range(patches_pos.shape[0]):\n",
    "#     vecs_pos.append(patches_pos[j, :, :].reshape(9))\n",
    "#     vecs_neg.append(patches_neg[j, :, :].reshape(9))\n",
    "# Vecs_pos = np.vstack(vecs_pos)\n",
    "# Vecs_neg = np.vstack(vecs_neg)\n",
    "\n",
    "# ka = klein_atlas(Vecs_pos, Vecs_neg, dist=1.0,\n",
    "#             kernel_fun=lambda x: 1.0)\n",
    "\n",
    "# ka = load_atlas(\"random_klein\", 2, 9)\n",
    "ka = load_atlas(\"random_atlas\", 2, 3)"
   ]
  },
  {
   "cell_type": "code",
   "execution_count": 2,
   "id": "1940a02b-fc5c-4af8-bdcd-55baaf9303b3",
   "metadata": {},
   "outputs": [
    {
     "name": "stdout",
     "output_type": "stream",
     "text": [
      "[ 1.55471372  1.56116406 15.03919145]\n",
      "[ 1.10272986  2.296672   13.43069609]\n",
      "[ 1.24348864  2.09108694 15.02368829]\n",
      "[ 1.21312252  1.58730242 10.92521273]\n",
      "[ 1.10715831  2.27448013 13.34603433]\n",
      "[ 1.09301692  1.73056237 10.07821365]\n"
     ]
    }
   ],
   "source": [
    "for j in range(ka.n_charts):\n",
    "    x_0, L, M, h_mat, A, b, c = ka.chart_dict[j]\n",
    "    s, _ = np.linalg.eigh(A)\n",
    "    print(s)"
   ]
  },
  {
   "cell_type": "code",
   "execution_count": 3,
   "id": "eed02223",
   "metadata": {},
   "outputs": [
    {
     "name": "stdout",
     "output_type": "stream",
     "text": [
      "0.823903212982465\n",
      "0.8260651654021185\n",
      "0.8526590218937926\n",
      "0.8125621341536409\n",
      "0.8559533904036698\n",
      "0.8164342179750967\n"
     ]
    },
    {
     "name": "stderr",
     "output_type": "stream",
     "text": [
      "  0%|                                                                                          | 0/6 [00:00<?, ?it/s]\n"
     ]
    },
    {
     "ename": "ValueError",
     "evalue": "Cannot take a larger sample than population when 'replace=False'",
     "output_type": "error",
     "traceback": [
      "\u001b[0;31m---------------------------------------------------------------------------\u001b[0m",
      "\u001b[0;31mValueError\u001b[0m                                Traceback (most recent call last)",
      "Cell \u001b[0;32mIn[3], line 35\u001b[0m\n\u001b[1;32m     33\u001b[0m X_big \u001b[38;5;241m=\u001b[39m ka\u001b[38;5;241m.\u001b[39msample_uniformly_from_chart_by_ind(j)\n\u001b[1;32m     34\u001b[0m n_big, _ \u001b[38;5;241m=\u001b[39m X_big\u001b[38;5;241m.\u001b[39mshape\n\u001b[0;32m---> 35\u001b[0m inds_smol \u001b[38;5;241m=\u001b[39m \u001b[43mnp\u001b[49m\u001b[38;5;241;43m.\u001b[39;49m\u001b[43mrandom\u001b[49m\u001b[38;5;241;43m.\u001b[39;49m\u001b[43mchoice\u001b[49m\u001b[43m(\u001b[49m\u001b[43mn_big\u001b[49m\u001b[43m,\u001b[49m\u001b[43m \u001b[49m\u001b[43mpts_per_chart\u001b[49m\u001b[43m,\u001b[49m\u001b[43m \u001b[49m\u001b[43mreplace\u001b[49m\u001b[38;5;241;43m=\u001b[39;49m\u001b[38;5;28;43;01mFalse\u001b[39;49;00m\u001b[43m)\u001b[49m\n\u001b[1;32m     36\u001b[0m X_smol \u001b[38;5;241m=\u001b[39m X_big[inds_oi, :]\n\u001b[1;32m     37\u001b[0m \u001b[38;5;28;01mif\u001b[39;00m np\u001b[38;5;241m.\u001b[39mprod(X_smol\u001b[38;5;241m.\u001b[39mshape) \u001b[38;5;241m!=\u001b[39m \u001b[38;5;241m0\u001b[39m:\n",
      "File \u001b[0;32mmtrand.pyx:984\u001b[0m, in \u001b[0;36mnumpy.random.mtrand.RandomState.choice\u001b[0;34m()\u001b[0m\n",
      "\u001b[0;31mValueError\u001b[0m: Cannot take a larger sample than population when 'replace=False'"
     ]
    }
   ],
   "source": [
    "# Sample points from charts\n",
    "# THE FOLLOWING IS GOOD FOR GETTING SALIENT H1 features\n",
    "pts_per_chart = 60\n",
    "\n",
    "# X_pre = []\n",
    "# start = time()\n",
    "# for j_theta in tqdm(range(ka.n_flags)):\n",
    "#     for j_phi in range(ka.n_flags):\n",
    "#         chart = (j_theta, j_phi)\n",
    "#         rad = ka.rad_dict[chart]\n",
    "#         boundary_fun = ka.boundary_fun_dict[chart]\n",
    "#         for j_per in range(pts_per_chart):\n",
    "#             cond = True\n",
    "#             while cond:\n",
    "#                 xi = rad * np.random.randn(2)\n",
    "#                 f = boundary_fun(xi)\n",
    "#                 #if np.linalg.norm(xi) <= rad:\n",
    "#                 if f < 0:\n",
    "#                     cond = False\n",
    "#             x = ka.xi_chart_to_ambient(xi, chart)\n",
    "#             X_pre.append(x)\n",
    "# print(\"Time elapsed: \"+str(time() - start))\n",
    "\n",
    "k = 6\n",
    "zeros_xi = np.zeros(2)\n",
    "for j in range(k):\n",
    "    boundary_fun = ka.boundary_fun_dict[j]\n",
    "    b_val = boundary_fun(zeros_xi)\n",
    "    print(b_val)\n",
    "\n",
    "X_pre = []\n",
    "for j in tqdm(range(k)):\n",
    "    X_big = ka.sample_uniformly_from_chart_by_ind(j)\n",
    "    n_big, _ = X_big.shape\n",
    "    inds_smol = np.random.choice(n_big, pts_per_chart, replace=False)\n",
    "    X_smol = X_big[inds_oi, :]\n",
    "    if np.prod(X_smol.shape) != 0:\n",
    "        X_pre.append(X_smol)\n",
    "\n",
    "X = np.vstack(X_pre)"
   ]
  },
  {
   "cell_type": "markdown",
   "id": "4e4f9458-1a4e-48f8-bb10-a4438b97d1b9",
   "metadata": {},
   "source": [
    "# Get polar coordinates for points\n",
    "thetas = []\n",
    "phis = []\n",
    "\n",
    "for j in tqdm(range(X.shape[0])):\n",
    "    x = X[j, :]\n",
    "    theta, phi = find_closest_theta_phi_brute(x)\n",
    "    #theta, phi = find_closest_theta_phi(x)\n",
    "    thetas.append(theta)\n",
    "    phis.append(phi)"
   ]
  },
  {
   "cell_type": "code",
   "execution_count": null,
   "id": "535ee0a7",
   "metadata": {},
   "outputs": [],
   "source": [
    "#rips_dict = ripser(X, maxdim=2)\n",
    "rips_dict = ripser(X, maxdim=1, do_cocycles=True)"
   ]
  },
  {
   "cell_type": "code",
   "execution_count": null,
   "id": "3a8fb8b0",
   "metadata": {},
   "outputs": [],
   "source": [
    "#plot_diagrams(rips_dict[\"dgms\"])\n",
    "\n",
    "#plt.show()\n",
    "\n",
    "for key in rips_dict.keys():\n",
    "    print(key)\n",
    "    print(type(rips_dict[key]))\n",
    "    print(\"\\n\")"
   ]
  },
  {
   "cell_type": "code",
   "execution_count": null,
   "id": "7d4f6da4",
   "metadata": {},
   "outputs": [],
   "source": [
    "dgms = rips_dict[\"dgms\"]\n",
    "dgms_0 = dgms[0]\n",
    "dgms_1 = dgms[1]\n",
    "\n",
    "ccs = rips_dict[\"cocycles\"]\n",
    "ccs_1 = ccs[1]\n",
    "\n",
    "lts_1 = []\n",
    "for birth, death in dgms_1:\n",
    "    lts_1.append(death - birth)\n",
    "\n",
    "sorted_inds = list(range(len(lts_1)))\n",
    "sorted_inds.sort(key=lambda x: lts_1[x],\n",
    "                reverse=True)\n",
    "\n",
    "ccs_1_sorted = [ccs_1[ind] for ind in sorted_inds]\n",
    "dgms_0_sorted = np.array([dgms_0[ind] for ind in sorted_inds])\n",
    "dgms_1_sorted = np.array([dgms_1[ind] for ind in sorted_inds])\n",
    "lts_1_sorted = [lts_1[ind] for ind in sorted_inds]\n",
    "\n",
    "dgms_0_top = dgms_0_sorted[:5]\n",
    "dgms_1_top = dgms_1_sorted[:5]\n",
    "ccs_1_top = ccs_1_sorted[:5]"
   ]
  },
  {
   "cell_type": "code",
   "execution_count": null,
   "id": "05dcb3f3",
   "metadata": {},
   "outputs": [],
   "source": [
    "fig = plt.figure(figsize=(3, 3))\n",
    "gs_grid_len = 10\n",
    "gs = GridSpec(gs_grid_len, gs_grid_len)\n",
    "ax = fig.add_subplot(gs[1:-1, 1:-1])\n",
    "plot_diagrams(dgms, legend=False)\n",
    "\n",
    "\"\"\"\n",
    "# Change legend fontsize\n",
    "ax = plt.gca()\n",
    "legend = [c for c in ax.get_children() if isinstance(c, Legend)][0]\n",
    "texts = legend.get_texts()\n",
    "for text in texts:\n",
    "    label = text.get_text()\n",
    "    text.set_text(label)\n",
    "    text.set_fontsize(12)\n",
    "\"\"\"\n",
    "\n",
    "# Set title\n",
    "ax.set_title(\"Atlas graph of\\nKlein bottle\")\n",
    "\n",
    "# Change axis fontsizes\n",
    "letters = [\"x\", \"y\"]\n",
    "for let in letters:\n",
    "    label = getattr(ax, \"get_\"+let+\"label\")()\n",
    "    getattr(ax, \"set_\"+let+\"label\")(label, fontsize=12)\n",
    "    ticks = getattr(ax, \"get_\"+let+\"ticks\")()\n",
    "    getattr(ax, \"set_\"+let+\"ticklabels\")([str(tick) for tick in ticks], fontsize=12)\n",
    "\n",
    "# Draw border of dots\n",
    "path_collections = [item for item in ax.get_children() if isinstance(item, PathCollection)]\n",
    "for pc in path_collections:\n",
    "    pc.set_edgecolor(\"k\")\n",
    "    \n",
    "fig = plt.gcf()\n",
    "fig.savefig(\"graphics/klein/homology/h1_atlas.jpg\")\n",
    "\n",
    "plt.show()"
   ]
  },
  {
   "cell_type": "code",
   "execution_count": null,
   "id": "63d1e861",
   "metadata": {},
   "outputs": [],
   "source": [
    "plot_diagrams([dgms_0_top, dgms_1_top])\n",
    "\n",
    "plt.show()"
   ]
  },
  {
   "cell_type": "code",
   "execution_count": null,
   "id": "6d727cf7",
   "metadata": {},
   "outputs": [],
   "source": [
    "print(ccs_1_top)\n",
    "print(type(ccs_1_top))\n",
    "print(len(ccs_1_top))\n",
    "print(type(ccs_1_top[0]))\n",
    "print(ccs_1_top[0].shape)"
   ]
  },
  {
   "cell_type": "code",
   "execution_count": null,
   "id": "ea193166",
   "metadata": {},
   "outputs": [],
   "source": [
    "def draw_feature(arr):\n",
    "    theta_list = []\n",
    "    phi_list = []\n",
    "    for row in arr:\n",
    "        for ind in row:\n",
    "            theta = thetas[ind]\n",
    "            phi = phis[ind]\n",
    "            theta_list.append(theta)\n",
    "            phi_list.append(phi)\n",
    "    fig = plt.figure(figsize=(10, 10))\n",
    "    ax = fig.add_subplot()\n",
    "    ax.scatter(theta_list, phi_list)\n",
    "    \n",
    "    plt.show()"
   ]
  },
  {
   "cell_type": "code",
   "execution_count": null,
   "id": "5baf9dde",
   "metadata": {},
   "outputs": [],
   "source": [
    "draw_feature(ccs_1_top[0])"
   ]
  },
  {
   "cell_type": "code",
   "execution_count": null,
   "id": "1cf2d409",
   "metadata": {},
   "outputs": [],
   "source": [
    "# Sample points from charts\n",
    "# THE FOLLOWING IS GOOD FOR GETTING SALIENT H2 feature\n",
    "pts_per_chart = 10\n",
    "\n",
    "X_pre = []\n",
    "start = time()\n",
    "for j_theta in range(ka.n_flags):\n",
    "    for j_phi in range(ka.n_flags):\n",
    "        chart = (j_theta, j_phi)\n",
    "        rad = ka.rad_dict[chart]\n",
    "        boundary_fun = ka.boundary_fun_dict[chart]\n",
    "        for j_per in range(pts_per_chart):\n",
    "            cond = True\n",
    "            while cond:\n",
    "                xi = rad * np.random.randn(2)\n",
    "                f = boundary_fun(xi)\n",
    "                #if np.linalg.norm(xi) <= rad:\n",
    "                if f < 0:\n",
    "                    cond = False\n",
    "            x = ka.xi_chart_to_ambient(xi, chart)\n",
    "            X_pre.append(x)\n",
    "print(\"Time elapsed: \"+str(time() - start))\n",
    "\n",
    "X = np.vstack(X_pre)"
   ]
  },
  {
   "cell_type": "raw",
   "id": "16fb2227-fcca-47b3-ae75-af6d26555ab3",
   "metadata": {},
   "source": [
    "rips_dict = ripser(X, maxdim=2)\n",
    "dgms = rips_dict[\"dgms\"]\n",
    "\n",
    "fig = plt.figure(figsize=(6, 6))\n",
    "gs_len = 15\n",
    "gs = GridSpec(gs_len, gs_len)\n",
    "ax = fig.add_subplot(gs[2:-2, 2:-2])\n",
    "plot_diagrams(dgms, ax=ax, size=40)\n",
    "#plot_diagrams(dgms, legend=False, ax=ax)\n",
    "\n",
    "\"\"\"\n",
    "# Change legend fontsize\n",
    "ax = plt.gca()\n",
    "legend = [c for c in ax.get_children() if isinstance(c, Legend)][0]\n",
    "texts = legend.get_texts()\n",
    "for text in texts:\n",
    "    label = text.get_text()\n",
    "    text.set_text(label)\n",
    "    text.set_fontsize(12)\n",
    "\"\"\"\n",
    "\n",
    "# Set title\n",
    "ax.set_title(\"Atlas graph\", fontsize=18)\n",
    "\n",
    "# Change axis fontsizes\n",
    "letters = [\"x\", \"y\"]\n",
    "for let in letters:\n",
    "    label = getattr(ax, \"get_\"+let+\"label\")()\n",
    "    getattr(ax, \"set_\"+let+\"label\")(label, fontsize=16)\n",
    "    ticks = getattr(ax, \"get_\"+let+\"ticks\")()\n",
    "    getattr(ax, \"set_\"+let+\"ticklabels\")([str(tick) for tick in ticks], fontsize=16)\n",
    "\n",
    "# Draw border of dots\n",
    "path_collections = [item for item in ax.get_children() if isinstance(item, PathCollection)]\n",
    "for pc in path_collections:\n",
    "    pc.set_alpha(0.5)\n",
    "    #pc.set_edgecolor(\"k\")\n",
    "\n",
    "leg = [child for child in ax.get_children() if isinstance(child, Legend)][0]\n",
    "for text in leg.get_texts():\n",
    "    text.set_fontsize(18)\n",
    "\n",
    "fig.savefig(\"graphics/klein/homology/h2_atlas.jpg\")\n",
    "\n",
    "plt.show()"
   ]
  }
 ],
 "metadata": {
  "kernelspec": {
   "display_name": "Python 3 (ipykernel)",
   "language": "python",
   "name": "python3"
  },
  "language_info": {
   "codemirror_mode": {
    "name": "ipython",
    "version": 3
   },
   "file_extension": ".py",
   "mimetype": "text/x-python",
   "name": "python",
   "nbconvert_exporter": "python",
   "pygments_lexer": "ipython3",
   "version": "3.8.10"
  }
 },
 "nbformat": 4,
 "nbformat_minor": 5
}
