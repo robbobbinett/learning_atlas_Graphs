{
 "cells": [
  {
   "cell_type": "code",
   "execution_count": 1,
   "metadata": {},
   "outputs": [
    {
     "name": "stderr",
     "output_type": "stream",
     "text": [
      "/home/ryan/.local/lib/python3.8/site-packages/pandas/core/computation/expressions.py:20: UserWarning: Pandas requires version '2.7.3' or newer of 'numexpr' (version '2.7.1' currently installed).\n",
      "  from pandas.core.computation.check import NUMEXPR_INSTALLED\n"
     ]
    }
   ],
   "source": [
    "%matplotlib inline\n",
    "\n",
    "from time import time\n",
    "import numpy as np\n",
    "import matplotlib.pyplot as plt\n",
    "import pandas as pd\n",
    "from sklearn.metrics.pairwise import euclidean_distances\n",
    "from ripser import ripser\n",
    "from persim import plot_diagrams\n",
    "\n",
    "from atlas_pam import *"
   ]
  },
  {
   "cell_type": "markdown",
   "metadata": {},
   "source": [
    "<h2>Load all data</h2>"
   ]
  },
  {
   "cell_type": "code",
   "execution_count": 2,
   "metadata": {},
   "outputs": [],
   "source": [
    "counts_M = pd.read_csv(\"peyers_data/counts_M.csv\", index_col=0)\n",
    "normCounts_M = pd.read_csv(\"peyers_data/normCounts_M.csv\", index_col=0)\n",
    "md_M = pd.read_csv(\"peyers_data/md_M.txt\", index_col=0,\n",
    "                  sep=\"\\t\")\n",
    "\n",
    "counts_tissue = pd.read_csv(\"peyers_data/counts_tissue.csv\", index_col=0)\n",
    "normCounts_tissue = pd.read_csv(\"peyers_data/normCounts_tissue.csv\",\n",
    "                                index_col=0)\n",
    "md_tissue = pd.read_csv(\"peyers_data/md_tissue.txt\", index_col=0,\n",
    "                       sep=\"\\t\")"
   ]
  },
  {
   "cell_type": "markdown",
   "metadata": {},
   "source": [
    "<h2>Do preprocessing for counts_M</h2>"
   ]
  },
  {
   "cell_type": "code",
   "execution_count": 3,
   "metadata": {},
   "outputs": [
    {
     "data": {
      "text/html": [
       "<div>\n",
       "<style scoped>\n",
       "    .dataframe tbody tr th:only-of-type {\n",
       "        vertical-align: middle;\n",
       "    }\n",
       "\n",
       "    .dataframe tbody tr th {\n",
       "        vertical-align: top;\n",
       "    }\n",
       "\n",
       "    .dataframe thead th {\n",
       "        text-align: right;\n",
       "    }\n",
       "</style>\n",
       "<table border=\"1\" class=\"dataframe\">\n",
       "  <thead>\n",
       "    <tr style=\"text-align: right;\">\n",
       "      <th></th>\n",
       "      <th>wt_Duodenum_Jax_1B</th>\n",
       "      <th>wt_Ileum_Jax_1B</th>\n",
       "      <th>wt_Jejunum_Jax_1B</th>\n",
       "      <th>wt_Duodenum_Jax_1C</th>\n",
       "      <th>wt_Ileum_Jax_1C</th>\n",
       "      <th>wt_Jejunum_Jax_1C</th>\n",
       "      <th>wt_Duodenum_Jax_1D</th>\n",
       "      <th>wt_Ileum_Jax_1D</th>\n",
       "      <th>wt_Jejunum_Jax_1D</th>\n",
       "      <th>wt_Duodenum_Jax_1E</th>\n",
       "      <th>...</th>\n",
       "      <th>villin-cre_Jejunum_Jax_SFB_6E</th>\n",
       "      <th>villin-cre_Duodenum_Jax_SFB_7C</th>\n",
       "      <th>villin-cre_Ileum_Jax_SFB_7C</th>\n",
       "      <th>villin-cre_Jejunum_Jax_SFB_7C</th>\n",
       "      <th>villin-cre_Duodenum_Jax_SFB_8B</th>\n",
       "      <th>villin-cre_Ileum_Jax_SFB_8B</th>\n",
       "      <th>villin-cre_Jejunum_Jax_SFB_8B</th>\n",
       "      <th>villin-cre_Duodenum_Jax_SFB_8C</th>\n",
       "      <th>villin-cre_Ileum_Jax_SFB_8C</th>\n",
       "      <th>villin-cre_Jejunum_Jax_SFB_8C</th>\n",
       "    </tr>\n",
       "  </thead>\n",
       "  <tbody>\n",
       "    <tr>\n",
       "      <th>Gnai3</th>\n",
       "      <td>3596</td>\n",
       "      <td>4805</td>\n",
       "      <td>1807</td>\n",
       "      <td>3294</td>\n",
       "      <td>4323</td>\n",
       "      <td>3257</td>\n",
       "      <td>2756</td>\n",
       "      <td>4023</td>\n",
       "      <td>3038</td>\n",
       "      <td>2196</td>\n",
       "      <td>...</td>\n",
       "      <td>4065</td>\n",
       "      <td>1673</td>\n",
       "      <td>4462</td>\n",
       "      <td>2825</td>\n",
       "      <td>701</td>\n",
       "      <td>3395</td>\n",
       "      <td>2746</td>\n",
       "      <td>1778</td>\n",
       "      <td>5390</td>\n",
       "      <td>6334</td>\n",
       "    </tr>\n",
       "    <tr>\n",
       "      <th>Cdc45</th>\n",
       "      <td>2</td>\n",
       "      <td>335</td>\n",
       "      <td>109</td>\n",
       "      <td>103</td>\n",
       "      <td>78</td>\n",
       "      <td>35</td>\n",
       "      <td>0</td>\n",
       "      <td>1</td>\n",
       "      <td>544</td>\n",
       "      <td>10</td>\n",
       "      <td>...</td>\n",
       "      <td>1</td>\n",
       "      <td>0</td>\n",
       "      <td>0</td>\n",
       "      <td>1</td>\n",
       "      <td>2</td>\n",
       "      <td>2</td>\n",
       "      <td>0</td>\n",
       "      <td>1</td>\n",
       "      <td>2</td>\n",
       "      <td>1</td>\n",
       "    </tr>\n",
       "    <tr>\n",
       "      <th>Apoh</th>\n",
       "      <td>184</td>\n",
       "      <td>372</td>\n",
       "      <td>147</td>\n",
       "      <td>148</td>\n",
       "      <td>141</td>\n",
       "      <td>124</td>\n",
       "      <td>190</td>\n",
       "      <td>4</td>\n",
       "      <td>210</td>\n",
       "      <td>139</td>\n",
       "      <td>...</td>\n",
       "      <td>111</td>\n",
       "      <td>670</td>\n",
       "      <td>102</td>\n",
       "      <td>1</td>\n",
       "      <td>152</td>\n",
       "      <td>11</td>\n",
       "      <td>12</td>\n",
       "      <td>183</td>\n",
       "      <td>22</td>\n",
       "      <td>28</td>\n",
       "    </tr>\n",
       "    <tr>\n",
       "      <th>Narf</th>\n",
       "      <td>480</td>\n",
       "      <td>354</td>\n",
       "      <td>114</td>\n",
       "      <td>392</td>\n",
       "      <td>278</td>\n",
       "      <td>889</td>\n",
       "      <td>724</td>\n",
       "      <td>1083</td>\n",
       "      <td>592</td>\n",
       "      <td>786</td>\n",
       "      <td>...</td>\n",
       "      <td>439</td>\n",
       "      <td>258</td>\n",
       "      <td>628</td>\n",
       "      <td>282</td>\n",
       "      <td>451</td>\n",
       "      <td>363</td>\n",
       "      <td>416</td>\n",
       "      <td>316</td>\n",
       "      <td>790</td>\n",
       "      <td>708</td>\n",
       "    </tr>\n",
       "    <tr>\n",
       "      <th>Cav2</th>\n",
       "      <td>530</td>\n",
       "      <td>225</td>\n",
       "      <td>358</td>\n",
       "      <td>799</td>\n",
       "      <td>217</td>\n",
       "      <td>1137</td>\n",
       "      <td>1334</td>\n",
       "      <td>212</td>\n",
       "      <td>71</td>\n",
       "      <td>901</td>\n",
       "      <td>...</td>\n",
       "      <td>0</td>\n",
       "      <td>127</td>\n",
       "      <td>0</td>\n",
       "      <td>0</td>\n",
       "      <td>1</td>\n",
       "      <td>0</td>\n",
       "      <td>0</td>\n",
       "      <td>86</td>\n",
       "      <td>0</td>\n",
       "      <td>0</td>\n",
       "    </tr>\n",
       "  </tbody>\n",
       "</table>\n",
       "<p>5 rows × 64 columns</p>\n",
       "</div>"
      ],
      "text/plain": [
       "       wt_Duodenum_Jax_1B  wt_Ileum_Jax_1B  wt_Jejunum_Jax_1B  \\\n",
       "Gnai3                3596             4805               1807   \n",
       "Cdc45                   2              335                109   \n",
       "Apoh                  184              372                147   \n",
       "Narf                  480              354                114   \n",
       "Cav2                  530              225                358   \n",
       "\n",
       "       wt_Duodenum_Jax_1C  wt_Ileum_Jax_1C  wt_Jejunum_Jax_1C  \\\n",
       "Gnai3                3294             4323               3257   \n",
       "Cdc45                 103               78                 35   \n",
       "Apoh                  148              141                124   \n",
       "Narf                  392              278                889   \n",
       "Cav2                  799              217               1137   \n",
       "\n",
       "       wt_Duodenum_Jax_1D  wt_Ileum_Jax_1D  wt_Jejunum_Jax_1D  \\\n",
       "Gnai3                2756             4023               3038   \n",
       "Cdc45                   0                1                544   \n",
       "Apoh                  190                4                210   \n",
       "Narf                  724             1083                592   \n",
       "Cav2                 1334              212                 71   \n",
       "\n",
       "       wt_Duodenum_Jax_1E  ...  villin-cre_Jejunum_Jax_SFB_6E  \\\n",
       "Gnai3                2196  ...                           4065   \n",
       "Cdc45                  10  ...                              1   \n",
       "Apoh                  139  ...                            111   \n",
       "Narf                  786  ...                            439   \n",
       "Cav2                  901  ...                              0   \n",
       "\n",
       "       villin-cre_Duodenum_Jax_SFB_7C  villin-cre_Ileum_Jax_SFB_7C  \\\n",
       "Gnai3                            1673                         4462   \n",
       "Cdc45                               0                            0   \n",
       "Apoh                              670                          102   \n",
       "Narf                              258                          628   \n",
       "Cav2                              127                            0   \n",
       "\n",
       "       villin-cre_Jejunum_Jax_SFB_7C  villin-cre_Duodenum_Jax_SFB_8B  \\\n",
       "Gnai3                           2825                             701   \n",
       "Cdc45                              1                               2   \n",
       "Apoh                               1                             152   \n",
       "Narf                             282                             451   \n",
       "Cav2                               0                               1   \n",
       "\n",
       "       villin-cre_Ileum_Jax_SFB_8B  villin-cre_Jejunum_Jax_SFB_8B  \\\n",
       "Gnai3                         3395                           2746   \n",
       "Cdc45                            2                              0   \n",
       "Apoh                            11                             12   \n",
       "Narf                           363                            416   \n",
       "Cav2                             0                              0   \n",
       "\n",
       "       villin-cre_Duodenum_Jax_SFB_8C  villin-cre_Ileum_Jax_SFB_8C  \\\n",
       "Gnai3                            1778                         5390   \n",
       "Cdc45                               1                            2   \n",
       "Apoh                              183                           22   \n",
       "Narf                              316                          790   \n",
       "Cav2                               86                            0   \n",
       "\n",
       "       villin-cre_Jejunum_Jax_SFB_8C  \n",
       "Gnai3                           6334  \n",
       "Cdc45                              1  \n",
       "Apoh                              28  \n",
       "Narf                             708  \n",
       "Cav2                               0  \n",
       "\n",
       "[5 rows x 64 columns]"
      ]
     },
     "execution_count": 3,
     "metadata": {},
     "output_type": "execute_result"
    }
   ],
   "source": [
    "counts_M.head()"
   ]
  },
  {
   "cell_type": "code",
   "execution_count": 4,
   "metadata": {},
   "outputs": [
    {
     "name": "stdout",
     "output_type": "stream",
     "text": [
      "(64, 15623)\n",
      "What is five percent of n?\n",
      "3.2\n"
     ]
    }
   ],
   "source": [
    "d_M, n_M = counts_M.shape\n",
    "\n",
    "print((n_M, d_M))\n",
    "\n",
    "print(\"What is five percent of n?\")\n",
    "print(0.05 * n_M)\n",
    "\n",
    "app_fp = np.floor(0.05 * n_M).astype(int)"
   ]
  },
  {
   "cell_type": "code",
   "execution_count": 5,
   "metadata": {},
   "outputs": [
    {
     "data": {
      "image/png": "[encoded data removed]",
      "text/plain": [
       "<Figure size 720x360 with 1 Axes>"
      ]
     },
     "metadata": {
      "needs_background": "light"
     },
     "output_type": "display_data"
    }
   ],
   "source": [
    "X_M = counts_M.to_numpy().T\n",
    "\n",
    "logX_M = np.log(X_M + 1)\n",
    "logvec = logX_M.reshape(n_M * d_M)\n",
    "\n",
    "fig = plt.figure(figsize=(10, 5))\n",
    "ax = fig.add_subplot()\n",
    "ax.hist(logvec, bins=100)\n",
    "\n",
    "log_cap = 6\n",
    "ax.axvline(log_cap, color=\"k\", linestyle=\"dashed\")\n",
    "\n",
    "plt.show()"
   ]
  },
  {
   "cell_type": "markdown",
   "metadata": {},
   "source": [
    "<h3>Below, get rid of genes without enough patients according to app_fp</h3>"
   ]
  },
  {
   "cell_type": "code",
   "execution_count": 6,
   "metadata": {},
   "outputs": [
    {
     "name": "stdout",
     "output_type": "stream",
     "text": [
      "Shape of X_M_trim:\n",
      "(64, 10349)\n"
     ]
    },
    {
     "data": {
      "image/png": "[encoded data removed]",
      "text/plain": [
       "<Figure size 720x720 with 1 Axes>"
      ]
     },
     "metadata": {
      "needs_background": "light"
     },
     "output_type": "display_data"
    }
   ],
   "source": [
    "logical_mat = (logX_M >= log_cap).astype(int)\n",
    "nontrivial_counts = np.sum(logical_mat, axis=0)\n",
    "to_keep = (nontrivial_counts >= app_fp)\n",
    "\n",
    "X_M_trim = X_M[:, to_keep]\n",
    "print(\"Shape of X_M_trim:\")\n",
    "print(X_M_trim.shape)\n",
    "\n",
    "fig = plt.figure(figsize=(10, 10))\n",
    "ax = fig.add_subplot()\n",
    "ax.hist(nontrivial_counts, bins=100)\n",
    "ax.axvline(app_fp, color=\"k\", linestyle=\"dashed\")\n",
    "\n",
    "plt.show()"
   ]
  },
  {
   "cell_type": "code",
   "execution_count": 7,
   "metadata": {},
   "outputs": [
    {
     "data": {
      "image/png": "[encoded data removed]",
      "text/plain": [
       "<Figure size 720x720 with 1 Axes>"
      ]
     },
     "metadata": {
      "needs_background": "light"
     },
     "output_type": "display_data"
    }
   ],
   "source": [
    "_, d_M_trim = X_M_trim.shape\n",
    "logX_M_trim = np.log(X_M_trim + 1)\n",
    "logX_M_trim_vec = logX_M_trim.reshape(n_M * d_M_trim)\n",
    "\n",
    "fig = plt.figure(figsize=(10, 10))\n",
    "ax = fig.add_subplot()\n",
    "ax.hist(logX_M_trim_vec, bins=100)\n",
    "\n",
    "plt.show()"
   ]
  },
  {
   "cell_type": "markdown",
   "metadata": {},
   "source": [
    "<h2>Do preprocessing for counts_tissue</h2>"
   ]
  },
  {
   "cell_type": "code",
   "execution_count": 8,
   "metadata": {},
   "outputs": [
    {
     "data": {
      "text/html": [
       "<div>\n",
       "<style scoped>\n",
       "    .dataframe tbody tr th:only-of-type {\n",
       "        vertical-align: middle;\n",
       "    }\n",
       "\n",
       "    .dataframe tbody tr th {\n",
       "        vertical-align: top;\n",
       "    }\n",
       "\n",
       "    .dataframe thead th {\n",
       "        text-align: right;\n",
       "    }\n",
       "</style>\n",
       "<table border=\"1\" class=\"dataframe\">\n",
       "  <thead>\n",
       "    <tr style=\"text-align: right;\">\n",
       "      <th></th>\n",
       "      <th>wt_Ileum_Jax_SFB_11</th>\n",
       "      <th>wt_Jejunum_Jax_SFB_11</th>\n",
       "      <th>villin-cre_Ileum_Jax_SFB_15</th>\n",
       "      <th>villin-cre_Jejunum_Jax_SFB_15</th>\n",
       "      <th>wt_Ileum_Jax_20</th>\n",
       "      <th>wt_Jejunum_Jax_20</th>\n",
       "      <th>villin-cre_Ileum_Jax_24</th>\n",
       "      <th>villin-cre_Jejunum_Jax_24</th>\n",
       "      <th>wt_Ileum_Jax_SFB_26</th>\n",
       "      <th>wt_Jejunum_Jax_SFB_26</th>\n",
       "      <th>...</th>\n",
       "      <th>villin-cre_Ileum_GF_55</th>\n",
       "      <th>villin-cre_Jejunum_GF_55</th>\n",
       "      <th>villin-cre_Duodenum_GF_56</th>\n",
       "      <th>villin-cre_Ileum_GF_56</th>\n",
       "      <th>villin-cre_Jejunum_GF_56</th>\n",
       "      <th>villin-cre_Duodenum_GF_57</th>\n",
       "      <th>villin-cre_Ileum_GF_57</th>\n",
       "      <th>villin-cre_Jejunum_GF_57</th>\n",
       "      <th>villin-cre_Ileum_Jax_8</th>\n",
       "      <th>villin-cre_Jejunum_Jax_8</th>\n",
       "    </tr>\n",
       "  </thead>\n",
       "  <tbody>\n",
       "    <tr>\n",
       "      <th>Gnai3</th>\n",
       "      <td>3871</td>\n",
       "      <td>3116</td>\n",
       "      <td>4155</td>\n",
       "      <td>3758</td>\n",
       "      <td>3697</td>\n",
       "      <td>2980</td>\n",
       "      <td>4075</td>\n",
       "      <td>3332</td>\n",
       "      <td>3062</td>\n",
       "      <td>3472</td>\n",
       "      <td>...</td>\n",
       "      <td>3957</td>\n",
       "      <td>3460</td>\n",
       "      <td>2855</td>\n",
       "      <td>3169</td>\n",
       "      <td>4608</td>\n",
       "      <td>2811</td>\n",
       "      <td>5112</td>\n",
       "      <td>3684</td>\n",
       "      <td>5095</td>\n",
       "      <td>4322</td>\n",
       "    </tr>\n",
       "    <tr>\n",
       "      <th>Cdc45</th>\n",
       "      <td>550</td>\n",
       "      <td>318</td>\n",
       "      <td>434</td>\n",
       "      <td>468</td>\n",
       "      <td>233</td>\n",
       "      <td>163</td>\n",
       "      <td>165</td>\n",
       "      <td>145</td>\n",
       "      <td>605</td>\n",
       "      <td>404</td>\n",
       "      <td>...</td>\n",
       "      <td>158</td>\n",
       "      <td>177</td>\n",
       "      <td>75</td>\n",
       "      <td>110</td>\n",
       "      <td>119</td>\n",
       "      <td>83</td>\n",
       "      <td>194</td>\n",
       "      <td>137</td>\n",
       "      <td>204</td>\n",
       "      <td>155</td>\n",
       "    </tr>\n",
       "    <tr>\n",
       "      <th>Narf</th>\n",
       "      <td>1431</td>\n",
       "      <td>1199</td>\n",
       "      <td>1380</td>\n",
       "      <td>1336</td>\n",
       "      <td>953</td>\n",
       "      <td>1007</td>\n",
       "      <td>1160</td>\n",
       "      <td>742</td>\n",
       "      <td>976</td>\n",
       "      <td>1203</td>\n",
       "      <td>...</td>\n",
       "      <td>849</td>\n",
       "      <td>1426</td>\n",
       "      <td>834</td>\n",
       "      <td>859</td>\n",
       "      <td>862</td>\n",
       "      <td>841</td>\n",
       "      <td>1370</td>\n",
       "      <td>1112</td>\n",
       "      <td>1228</td>\n",
       "      <td>884</td>\n",
       "    </tr>\n",
       "    <tr>\n",
       "      <th>Cav2</th>\n",
       "      <td>108</td>\n",
       "      <td>76</td>\n",
       "      <td>77</td>\n",
       "      <td>68</td>\n",
       "      <td>101</td>\n",
       "      <td>48</td>\n",
       "      <td>112</td>\n",
       "      <td>69</td>\n",
       "      <td>53</td>\n",
       "      <td>82</td>\n",
       "      <td>...</td>\n",
       "      <td>89</td>\n",
       "      <td>100</td>\n",
       "      <td>47</td>\n",
       "      <td>64</td>\n",
       "      <td>57</td>\n",
       "      <td>104</td>\n",
       "      <td>116</td>\n",
       "      <td>117</td>\n",
       "      <td>128</td>\n",
       "      <td>104</td>\n",
       "    </tr>\n",
       "    <tr>\n",
       "      <th>Klf6</th>\n",
       "      <td>2661</td>\n",
       "      <td>2113</td>\n",
       "      <td>3214</td>\n",
       "      <td>3187</td>\n",
       "      <td>2151</td>\n",
       "      <td>2344</td>\n",
       "      <td>2878</td>\n",
       "      <td>2050</td>\n",
       "      <td>1520</td>\n",
       "      <td>2569</td>\n",
       "      <td>...</td>\n",
       "      <td>2556</td>\n",
       "      <td>2732</td>\n",
       "      <td>2083</td>\n",
       "      <td>2367</td>\n",
       "      <td>3055</td>\n",
       "      <td>3123</td>\n",
       "      <td>3798</td>\n",
       "      <td>3220</td>\n",
       "      <td>3875</td>\n",
       "      <td>2856</td>\n",
       "    </tr>\n",
       "  </tbody>\n",
       "</table>\n",
       "<p>5 rows × 78 columns</p>\n",
       "</div>"
      ],
      "text/plain": [
       "       wt_Ileum_Jax_SFB_11  wt_Jejunum_Jax_SFB_11  \\\n",
       "Gnai3                 3871                   3116   \n",
       "Cdc45                  550                    318   \n",
       "Narf                  1431                   1199   \n",
       "Cav2                   108                     76   \n",
       "Klf6                  2661                   2113   \n",
       "\n",
       "       villin-cre_Ileum_Jax_SFB_15  villin-cre_Jejunum_Jax_SFB_15  \\\n",
       "Gnai3                         4155                           3758   \n",
       "Cdc45                          434                            468   \n",
       "Narf                          1380                           1336   \n",
       "Cav2                            77                             68   \n",
       "Klf6                          3214                           3187   \n",
       "\n",
       "       wt_Ileum_Jax_20  wt_Jejunum_Jax_20  villin-cre_Ileum_Jax_24  \\\n",
       "Gnai3             3697               2980                     4075   \n",
       "Cdc45              233                163                      165   \n",
       "Narf               953               1007                     1160   \n",
       "Cav2               101                 48                      112   \n",
       "Klf6              2151               2344                     2878   \n",
       "\n",
       "       villin-cre_Jejunum_Jax_24  wt_Ileum_Jax_SFB_26  wt_Jejunum_Jax_SFB_26  \\\n",
       "Gnai3                       3332                 3062                   3472   \n",
       "Cdc45                        145                  605                    404   \n",
       "Narf                         742                  976                   1203   \n",
       "Cav2                          69                   53                     82   \n",
       "Klf6                        2050                 1520                   2569   \n",
       "\n",
       "       ...  villin-cre_Ileum_GF_55  villin-cre_Jejunum_GF_55  \\\n",
       "Gnai3  ...                    3957                      3460   \n",
       "Cdc45  ...                     158                       177   \n",
       "Narf   ...                     849                      1426   \n",
       "Cav2   ...                      89                       100   \n",
       "Klf6   ...                    2556                      2732   \n",
       "\n",
       "       villin-cre_Duodenum_GF_56  villin-cre_Ileum_GF_56  \\\n",
       "Gnai3                       2855                    3169   \n",
       "Cdc45                         75                     110   \n",
       "Narf                         834                     859   \n",
       "Cav2                          47                      64   \n",
       "Klf6                        2083                    2367   \n",
       "\n",
       "       villin-cre_Jejunum_GF_56  villin-cre_Duodenum_GF_57  \\\n",
       "Gnai3                      4608                       2811   \n",
       "Cdc45                       119                         83   \n",
       "Narf                        862                        841   \n",
       "Cav2                         57                        104   \n",
       "Klf6                       3055                       3123   \n",
       "\n",
       "       villin-cre_Ileum_GF_57  villin-cre_Jejunum_GF_57  \\\n",
       "Gnai3                    5112                      3684   \n",
       "Cdc45                     194                       137   \n",
       "Narf                     1370                      1112   \n",
       "Cav2                      116                       117   \n",
       "Klf6                     3798                      3220   \n",
       "\n",
       "       villin-cre_Ileum_Jax_8  villin-cre_Jejunum_Jax_8  \n",
       "Gnai3                    5095                      4322  \n",
       "Cdc45                     204                       155  \n",
       "Narf                     1228                       884  \n",
       "Cav2                      128                       104  \n",
       "Klf6                     3875                      2856  \n",
       "\n",
       "[5 rows x 78 columns]"
      ]
     },
     "execution_count": 8,
     "metadata": {},
     "output_type": "execute_result"
    }
   ],
   "source": [
    "counts_tissue.head()"
   ]
  },
  {
   "cell_type": "code",
   "execution_count": 9,
   "metadata": {},
   "outputs": [
    {
     "name": "stdout",
     "output_type": "stream",
     "text": [
      "(78, 14542)\n",
      "What is five percent of n?\n",
      "3.9000000000000004\n"
     ]
    }
   ],
   "source": [
    "d_tissue, n_tissue = counts_tissue.shape\n",
    "\n",
    "print((n_tissue, d_tissue))\n",
    "\n",
    "print(\"What is five percent of n?\")\n",
    "print(0.05 * n_tissue)\n",
    "\n",
    "app_fp = np.floor(0.05 * n_tissue).astype(int)"
   ]
  },
  {
   "cell_type": "code",
   "execution_count": 10,
   "metadata": {},
   "outputs": [
    {
     "data": {
      "image/png": "[encoded data removed]",
      "text/plain": [
       "<Figure size 720x360 with 1 Axes>"
      ]
     },
     "metadata": {
      "needs_background": "light"
     },
     "output_type": "display_data"
    }
   ],
   "source": [
    "X_tissue = counts_tissue.to_numpy().T\n",
    "\n",
    "logX_tissue = np.log(X_tissue + 1)\n",
    "logvec = logX_tissue.reshape(n_tissue * d_tissue)\n",
    "\n",
    "fig = plt.figure(figsize=(10, 5))\n",
    "ax = fig.add_subplot()\n",
    "ax.hist(logvec, bins=100)\n",
    "\n",
    "log_cap = 6\n",
    "ax.axvline(log_cap, color=\"k\", linestyle=\"dashed\")\n",
    "\n",
    "plt.show()"
   ]
  },
  {
   "cell_type": "markdown",
   "metadata": {},
   "source": [
    "<h3>Below, get rid of genes without enough patients according to app_fp</h3>"
   ]
  },
  {
   "cell_type": "code",
   "execution_count": 11,
   "metadata": {},
   "outputs": [
    {
     "name": "stdout",
     "output_type": "stream",
     "text": [
      "Shape of X_tissue_trim:\n",
      "(78, 8927)\n"
     ]
    },
    {
     "data": {
      "image/png": "[encoded data removed]",
      "text/plain": [
       "<Figure size 720x720 with 1 Axes>"
      ]
     },
     "metadata": {
      "needs_background": "light"
     },
     "output_type": "display_data"
    }
   ],
   "source": [
    "logical_mat = (logX_tissue >= log_cap).astype(int)\n",
    "nontrivial_counts = np.sum(logical_mat, axis=0)\n",
    "to_keep = (nontrivial_counts >= app_fp)\n",
    "\n",
    "X_tissue_trim = X_tissue[:, to_keep]\n",
    "print(\"Shape of X_tissue_trim:\")\n",
    "print(X_tissue_trim.shape)\n",
    "\n",
    "fig = plt.figure(figsize=(10, 10))\n",
    "ax = fig.add_subplot()\n",
    "ax.hist(nontrivial_counts, bins=100)\n",
    "ax.axvline(app_fp, color=\"k\", linestyle=\"dashed\")\n",
    "\n",
    "plt.show()"
   ]
  },
  {
   "cell_type": "code",
   "execution_count": 12,
   "metadata": {},
   "outputs": [
    {
     "data": {
      "image/png": "[encoded data removed]",
      "text/plain": [
       "<Figure size 720x720 with 1 Axes>"
      ]
     },
     "metadata": {
      "needs_background": "light"
     },
     "output_type": "display_data"
    }
   ],
   "source": [
    "_, d_tissue_trim = X_tissue_trim.shape\n",
    "logX_tissue_trim = np.log(X_tissue_trim + 1)\n",
    "logX_tissue_trim_vec = logX_tissue_trim.reshape(n_tissue * d_tissue_trim)\n",
    "\n",
    "fig = plt.figure(figsize=(10, 10))\n",
    "ax = fig.add_subplot()\n",
    "ax.hist(logX_tissue_trim_vec, bins=100)\n",
    "\n",
    "plt.show()"
   ]
  }
 ],
 "metadata": {
  "kernelspec": {
   "display_name": "Python 3",
   "language": "python",
   "name": "python3"
  },
  "language_info": {
   "codemirror_mode": {
    "name": "ipython",
    "version": 3
   },
   "file_extension": ".py",
   "mimetype": "text/x-python",
   "name": "python",
   "nbconvert_exporter": "python",
   "pygments_lexer": "ipython3",
   "version": "3.8.10"
  }
 },
 "nbformat": 4,
 "nbformat_minor": 4
}
