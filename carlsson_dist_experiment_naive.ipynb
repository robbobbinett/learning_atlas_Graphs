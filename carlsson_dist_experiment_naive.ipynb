{
 "cells": [
  {
   "cell_type": "code",
   "execution_count": 1,
   "id": "6e5862e4",
   "metadata": {},
   "outputs": [],
   "source": [
    "%matplotlib inline\n",
    "\n",
    "import pickle\n",
    "\n",
    "import numpy as np\n",
    "import networkx as nx\n",
    "import matplotlib.pyplot as plt\n",
    "from matplotlib.gridspec import GridSpec\n",
    "from matplotlib.collections import PathCollection\n",
    "from tqdm import tqdm\n",
    "\n",
    "from atlas_general import load_atlas"
   ]
  },
  {
   "cell_type": "code",
   "execution_count": 2,
   "id": "39f05795-0f19-4cd7-bd63-c6433246aeca",
   "metadata": {},
   "outputs": [
    {
     "name": "stderr",
     "output_type": "stream",
     "text": [
      "100%|████████████████████████████████████████████████████████████████████████████████| 64/64 [00:03<00:00, 17.95it/s]\n",
      "100%|█████████████████████████████████████████████████████████████████████████| 32227/32227 [04:44<00:00, 113.38it/s]\n",
      "100%|████████████████████████████████████████████████████████████████████████████| 100/100 [1:02:23<00:00, 37.44s/it]\n"
     ]
    },
    {
     "ename": "TypeError",
     "evalue": "save() missing 1 required positional argument: 'arr'",
     "output_type": "error",
     "traceback": [
      "\u001b[0;31m---------------------------------------------------------------------------\u001b[0m",
      "\u001b[0;31mTypeError\u001b[0m                                 Traceback (most recent call last)",
      "Cell \u001b[0;32mIn[2], line 63\u001b[0m\n\u001b[1;32m     61\u001b[0m distances \u001b[38;5;241m=\u001b[39m np\u001b[38;5;241m.\u001b[39mstack([dists_real_vec, dists_atlas_vec])\u001b[38;5;241m.\u001b[39mT\n\u001b[1;32m     62\u001b[0m \u001b[38;5;28;01massert\u001b[39;00m distances\u001b[38;5;241m.\u001b[39mshape[\u001b[38;5;241m1\u001b[39m] \u001b[38;5;241m==\u001b[39m \u001b[38;5;241m2\u001b[39m\n\u001b[0;32m---> 63\u001b[0m \u001b[43mnp\u001b[49m\u001b[38;5;241;43m.\u001b[39;49m\u001b[43msave\u001b[49m\u001b[43m(\u001b[49m\u001b[38;5;124;43m\"\u001b[39;49m\u001b[38;5;124;43mdata/atlas_dist/distances.npy\u001b[39;49m\u001b[38;5;124;43m\"\u001b[39;49m\u001b[43m)\u001b[49m\n",
      "File \u001b[0;32m<__array_function__ internals>:198\u001b[0m, in \u001b[0;36msave\u001b[0;34m(*args, **kwargs)\u001b[0m\n",
      "\u001b[0;31mTypeError\u001b[0m: save() missing 1 required positional argument: 'arr'"
     ]
    }
   ],
   "source": [
    "try:\n",
    "    # Load in distances\n",
    "    distances = np.load(\"data/atlas_dist/distances.npy\")\n",
    "    dists_real = distances[:, 0].tolist()\n",
    "    dists_atlas = distances[:, 1].tolist()\n",
    "except FileNotFoundError:\n",
    "    # Load in points and graph\n",
    "    X = np.load(\"data/klein_dist/carlsson_points.npy\")\n",
    "    G = pickle.load(open(\"data/klein_dist/carlsson_graph.pkl\", \"rb\"))\n",
    "\n",
    "    # Generate atlas graph\n",
    "    ka = load_atlas(\"random_klein\", 2, 9)\n",
    "\n",
    "    # Generate dense subgraph\n",
    "    ka.construct_dense_graph()\n",
    "    \n",
    "    # Randomly select points from graph\n",
    "    np.random.seed(493)\n",
    "    N, _ = X.shape\n",
    "\n",
    "    n_pairs = 100\n",
    "\n",
    "    inds = np.random.choice(N, size=(2*n_pairs), replace=False)\n",
    "    inds_start = inds[:n_pairs]\n",
    "    inds_end = inds[n_pairs:]\n",
    "\n",
    "    dists_real = []\n",
    "    dists_atlas = []\n",
    "    for start, end in tqdm(zip(inds_start, inds_end), total=n_pairs):\n",
    "    #for start, end in zip(inds_start, inds_end):\n",
    "        # Compute real distance\n",
    "        dist_real = nx.shortest_path_length(G, source=start, target=end,\n",
    "                            weight=\"weight\")\n",
    "\n",
    "        # Compute atlas distance\n",
    "        x_start = X[start, :]\n",
    "        x_end = X[end, :]\n",
    "        xi_0, chart_0 = ka.ingest_ambient_point(x_start)\n",
    "        xi_1, chart_1 = ka.ingest_ambient_point(x_end)\n",
    "\n",
    "        _, _, _, dist_atlas = ka.approximate_shortest_path(xi_0, chart_0,\n",
    "                                                    xi_1, chart_1)\n",
    "        \n",
    "        # X_pair = np.stack([x_start, x_end])\n",
    "        # chart_assignments = ka.assign_charts(X_pair)\n",
    "        # chart_start = tuple(chart_assignments[0, :])\n",
    "        # chart_end = tuple(chart_assignments[1, :])\n",
    "        # L_start = ka.L_dict[chart_start]\n",
    "        # L_end = ka.L_dict[chart_end]\n",
    "        # center_start = ka.center_dict[chart_start]\n",
    "        # center_end = ka.center_dict[chart_end]\n",
    "        # xi_start = L_start.T @ (x_start - center_start)\n",
    "        # xi_end = L_end.T @ (x_end - center_end)\n",
    "        # _, _, _, dist_atlas = ka.approximate_shortest_path(xi_start, chart_start,\n",
    "        #                       xi_end, chart_end)\n",
    "        # Store distances\n",
    "        dists_real.append(dist_real)\n",
    "        dists_atlas.append(dist_atlas)\n",
    "    dists_real_vec = np.array(dists_real)\n",
    "    dists_atlas_vec = np.array(dists_atlas)\n",
    "    distances = np.stack([dists_real_vec, dists_atlas_vec]).T\n",
    "    assert distances.shape[1] == 2\n",
    "    np.save(\"data/atlas_dist_naive/distances.npy\", distances)"
   ]
  },
  {
   "cell_type": "code",
   "execution_count": 5,
   "id": "47c0d509",
   "metadata": {},
   "outputs": [],
   "source": [
    "ratios = [(dist_atlas/dist_real) for dist_atlas, dist_real in zip(dists_atlas, dists_real)]\n",
    "r_max = np.max(ratios)\n",
    "r_min = np.min(ratios)\n",
    "alpha = r_max / r_min"
   ]
  },
  {
   "cell_type": "code",
   "execution_count": 6,
   "id": "58671835",
   "metadata": {},
   "outputs": [
    {
     "data": {
      "image/png": "[encoded data removed]",
      "text/plain": [
       "<Figure size 300x300 with 1 Axes>"
      ]
     },
     "metadata": {},
     "output_type": "display_data"
    }
   ],
   "source": [
    "fig = plt.figure(figsize=(3, 3))\n",
    "gs_len = 8\n",
    "gs = GridSpec(gs_len, gs_len)\n",
    "ax = fig.add_subplot(gs[1:-1, 1:-1])\n",
    "#ax.scatter(dists_real, dists_real, color=\"b\")\n",
    "ax.scatter(dists_real, dists_atlas, color=\"r\")\n",
    "ax.set_xlabel(\"Dist. in manifold\", fontsize=12)\n",
    "ax.set_ylabel(\"Dist. in representation\", fontsize=12, labelpad=20)\n",
    "ax.set_title(\"Atlas graph\")\n",
    "\n",
    "ax.set_yticks([])\n",
    "ax.text(0.05, 0.9, r\"$\\alpha=\"+str(alpha)[:4]+\"$\",\n",
    "        fontsize=12, transform=ax.transAxes)\n",
    "\n",
    "path_collections = [item for item in ax.get_children() if isinstance(item, PathCollection)]\n",
    "for pc in path_collections:\n",
    "    pc.set_edgecolor(\"k\")\n",
    "\n",
    "fig.savefig(\"graphics/dist/atlas_dist_naive.jpg\")\n",
    "    \n",
    "plt.show()"
   ]
  }
 ],
 "metadata": {
  "kernelspec": {
   "display_name": "Python 3 (ipykernel)",
   "language": "python",
   "name": "python3"
  },
  "language_info": {
   "codemirror_mode": {
    "name": "ipython",
    "version": 3
   },
   "file_extension": ".py",
   "mimetype": "text/x-python",
   "name": "python",
   "nbconvert_exporter": "python",
   "pygments_lexer": "ipython3",
   "version": "3.8.10"
  }
 },
 "nbformat": 4,
 "nbformat_minor": 5
}
