{
 "cells": [
  {
   "cell_type": "code",
   "execution_count": 1,
   "id": "6e5862e4",
   "metadata": {},
   "outputs": [],
   "source": [
    "%matplotlib inline\n",
    "\n",
    "import pickle\n",
    "\n",
    "import numpy as np\n",
    "import networkx as nx\n",
    "import matplotlib.pyplot as plt\n",
    "from matplotlib.gridspec import GridSpec\n",
    "from matplotlib.collections import PathCollection\n",
    "from tqdm import tqdm\n",
    "\n",
    "from atlas_general import load_atlas"
   ]
  },
  {
   "cell_type": "code",
   "execution_count": 2,
   "id": "39f05795-0f19-4cd7-bd63-c6433246aeca",
   "metadata": {},
   "outputs": [
    {
     "name": "stderr",
     "output_type": "stream",
     "text": [
      "100%|███████████████████████████████████████████████████████████████████████████████| 64/64 [00:00<00:00, 908.02it/s]\n",
      "100%|████████████████████████████████████████████████████████████████████████████| 624/624 [00:00<00:00, 2967.83it/s]\n",
      "  2%|█▌                                                                              | 2/100 [00:54<44:11, 27.05s/it]\n"
     ]
    },
    {
     "ename": "NetworkXNoPath",
     "evalue": "No path between 552 and 121.",
     "output_type": "error",
     "traceback": [
      "\u001b[0;31m---------------------------------------------------------------------------\u001b[0m",
      "\u001b[0;31mFileNotFoundError\u001b[0m                         Traceback (most recent call last)",
      "Cell \u001b[0;32mIn[2], line 3\u001b[0m\n\u001b[1;32m      1\u001b[0m \u001b[38;5;28;01mtry\u001b[39;00m:\n\u001b[1;32m      2\u001b[0m     \u001b[38;5;66;03m# Load in distances\u001b[39;00m\n\u001b[0;32m----> 3\u001b[0m     distances \u001b[38;5;241m=\u001b[39m \u001b[43mnp\u001b[49m\u001b[38;5;241;43m.\u001b[39;49m\u001b[43mload\u001b[49m\u001b[43m(\u001b[49m\u001b[38;5;124;43m\"\u001b[39;49m\u001b[38;5;124;43mdata/atlas_dist/distances.npy\u001b[39;49m\u001b[38;5;124;43m\"\u001b[39;49m\u001b[43m)\u001b[49m\n\u001b[1;32m      4\u001b[0m     dists_real \u001b[38;5;241m=\u001b[39m distances[:, \u001b[38;5;241m0\u001b[39m]\u001b[38;5;241m.\u001b[39mtolist()\n",
      "File \u001b[0;32m~/Documents/python/atlas/lib/python3.8/site-packages/numpy/lib/npyio.py:405\u001b[0m, in \u001b[0;36mload\u001b[0;34m(file, mmap_mode, allow_pickle, fix_imports, encoding, max_header_size)\u001b[0m\n\u001b[1;32m    404\u001b[0m \u001b[38;5;28;01melse\u001b[39;00m:\n\u001b[0;32m--> 405\u001b[0m     fid \u001b[38;5;241m=\u001b[39m stack\u001b[38;5;241m.\u001b[39menter_context(\u001b[38;5;28;43mopen\u001b[39;49m\u001b[43m(\u001b[49m\u001b[43mos_fspath\u001b[49m\u001b[43m(\u001b[49m\u001b[43mfile\u001b[49m\u001b[43m)\u001b[49m\u001b[43m,\u001b[49m\u001b[43m \u001b[49m\u001b[38;5;124;43m\"\u001b[39;49m\u001b[38;5;124;43mrb\u001b[39;49m\u001b[38;5;124;43m\"\u001b[39;49m\u001b[43m)\u001b[49m)\n\u001b[1;32m    406\u001b[0m     own_fid \u001b[38;5;241m=\u001b[39m \u001b[38;5;28;01mTrue\u001b[39;00m\n",
      "\u001b[0;31mFileNotFoundError\u001b[0m: [Errno 2] No such file or directory: 'data/atlas_dist/distances.npy'",
      "\nDuring handling of the above exception, another exception occurred:\n",
      "\u001b[0;31mKeyError\u001b[0m                                  Traceback (most recent call last)",
      "File \u001b[0;32m~/Documents/GitHub/learning_atlas_Graphs/atlas_general.py:268\u001b[0m, in \u001b[0;36matlas_general.shortest_path_cached\u001b[0;34m(self, ind_0, ind_1)\u001b[0m\n\u001b[1;32m    267\u001b[0m \u001b[38;5;28;01mtry\u001b[39;00m:\n\u001b[0;32m--> 268\u001b[0m \t\u001b[38;5;28;01mreturn\u001b[39;00m \u001b[38;5;28;43mself\u001b[39;49m\u001b[38;5;241;43m.\u001b[39;49m\u001b[43mshortest_path_cache\u001b[49m\u001b[43m[\u001b[49m\u001b[43mkey\u001b[49m\u001b[43m]\u001b[49m\n\u001b[1;32m    269\u001b[0m \u001b[38;5;28;01mexcept\u001b[39;00m \u001b[38;5;167;01mKeyError\u001b[39;00m:\n",
      "\u001b[0;31mKeyError\u001b[0m: (552, 121)",
      "\nDuring handling of the above exception, another exception occurred:\n",
      "\u001b[0;31mNetworkXNoPath\u001b[0m                            Traceback (most recent call last)",
      "Cell \u001b[0;32mIn[2], line 41\u001b[0m\n\u001b[1;32m     38\u001b[0m xi_0, chart_0 \u001b[38;5;241m=\u001b[39m ka\u001b[38;5;241m.\u001b[39mingest_ambient_point(x_start)\n\u001b[1;32m     39\u001b[0m xi_1, chart_1 \u001b[38;5;241m=\u001b[39m ka\u001b[38;5;241m.\u001b[39mingest_ambient_point(x_end)\n\u001b[0;32m---> 41\u001b[0m _, _, _, dist_atlas \u001b[38;5;241m=\u001b[39m \u001b[43mka\u001b[49m\u001b[38;5;241;43m.\u001b[39;49m\u001b[43mapproximate_shortest_path\u001b[49m\u001b[43m(\u001b[49m\u001b[43mxi_0\u001b[49m\u001b[43m,\u001b[49m\u001b[43m \u001b[49m\u001b[43mchart_0\u001b[49m\u001b[43m,\u001b[49m\n\u001b[1;32m     42\u001b[0m \u001b[43m                                            \u001b[49m\u001b[43mxi_1\u001b[49m\u001b[43m,\u001b[49m\u001b[43m \u001b[49m\u001b[43mchart_1\u001b[49m\u001b[43m)\u001b[49m\n\u001b[1;32m     44\u001b[0m \u001b[38;5;66;03m# X_pair = np.stack([x_start, x_end])\u001b[39;00m\n\u001b[1;32m     45\u001b[0m \u001b[38;5;66;03m# chart_assignments = ka.assign_charts(X_pair)\u001b[39;00m\n\u001b[1;32m     46\u001b[0m \u001b[38;5;66;03m# chart_start = tuple(chart_assignments[0, :])\u001b[39;00m\n\u001b[0;32m   (...)\u001b[0m\n\u001b[1;32m     55\u001b[0m \u001b[38;5;66;03m#                       xi_end, chart_end)\u001b[39;00m\n\u001b[1;32m     56\u001b[0m \u001b[38;5;66;03m# Store distances\u001b[39;00m\n\u001b[1;32m     57\u001b[0m dists_real\u001b[38;5;241m.\u001b[39mappend(dist_real)\n",
      "File \u001b[0;32m~/Documents/GitHub/learning_atlas_Graphs/atlas_general.py:300\u001b[0m, in \u001b[0;36matlas_general.approximate_shortest_path\u001b[0;34m(self, xi_0, chart_0, xi_1, chart_1)\u001b[0m\n\u001b[1;32m    298\u001b[0m dist_1 \u001b[38;5;241m=\u001b[39m np\u001b[38;5;241m.\u001b[39mlinalg\u001b[38;5;241m.\u001b[39mnorm(x_1 \u001b[38;5;241m-\u001b[39m x_prime_1)\n\u001b[1;32m    299\u001b[0m \u001b[38;5;28;01mtry\u001b[39;00m:\n\u001b[0;32m--> 300\u001b[0m \tpath_pre, path_len \u001b[38;5;241m=\u001b[39m \u001b[38;5;28;43mself\u001b[39;49m\u001b[38;5;241;43m.\u001b[39;49m\u001b[43mshortest_path_cached\u001b[49m\u001b[43m(\u001b[49m\u001b[43mind_0\u001b[49m\u001b[43m,\u001b[49m\u001b[43m \u001b[49m\u001b[43mind_1\u001b[49m\u001b[43m)\u001b[49m\n\u001b[1;32m    301\u001b[0m \u001b[38;5;28;01mexcept\u001b[39;00m \u001b[38;5;167;01mAttributeError\u001b[39;00m:\n\u001b[1;32m    302\u001b[0m \t\u001b[38;5;28;01mraise\u001b[39;00m \u001b[38;5;167;01mAttributeError\u001b[39;00m(\u001b[38;5;124m\"\u001b[39m\u001b[38;5;124mMust run construct_dense_graph method before calling this method.\u001b[39m\u001b[38;5;124m\"\u001b[39m)\n",
      "File \u001b[0;32m~/Documents/GitHub/learning_atlas_Graphs/atlas_general.py:270\u001b[0m, in \u001b[0;36matlas_general.shortest_path_cached\u001b[0;34m(self, ind_0, ind_1)\u001b[0m\n\u001b[1;32m    268\u001b[0m \t\u001b[38;5;28;01mreturn\u001b[39;00m \u001b[38;5;28mself\u001b[39m\u001b[38;5;241m.\u001b[39mshortest_path_cache[key]\n\u001b[1;32m    269\u001b[0m \u001b[38;5;28;01mexcept\u001b[39;00m \u001b[38;5;167;01mKeyError\u001b[39;00m:\n\u001b[0;32m--> 270\u001b[0m \tpath \u001b[38;5;241m=\u001b[39m \u001b[43mnx\u001b[49m\u001b[38;5;241;43m.\u001b[39;49m\u001b[43mshortest_path\u001b[49m\u001b[43m(\u001b[49m\u001b[38;5;28;43mself\u001b[39;49m\u001b[38;5;241;43m.\u001b[39;49m\u001b[43mG_brute\u001b[49m\u001b[43m,\u001b[49m\u001b[43m \u001b[49m\u001b[43mweight\u001b[49m\u001b[38;5;241;43m=\u001b[39;49m\u001b[38;5;124;43m\"\u001b[39;49m\u001b[38;5;124;43mweight\u001b[39;49m\u001b[38;5;124;43m\"\u001b[39;49m\u001b[43m,\u001b[49m\n\u001b[1;32m    271\u001b[0m \u001b[43m\t\t\t\u001b[49m\u001b[43msource\u001b[49m\u001b[38;5;241;43m=\u001b[39;49m\u001b[43mind_0\u001b[49m\u001b[43m,\u001b[49m\u001b[43m \u001b[49m\u001b[43mtarget\u001b[49m\u001b[38;5;241;43m=\u001b[39;49m\u001b[43mind_1\u001b[49m\u001b[43m)\u001b[49m\n\u001b[1;32m    272\u001b[0m \tpath_len \u001b[38;5;241m=\u001b[39m nx\u001b[38;5;241m.\u001b[39mshortest_path_length(\u001b[38;5;28mself\u001b[39m\u001b[38;5;241m.\u001b[39mG_brute,\n\u001b[1;32m    273\u001b[0m \t\t\tweight\u001b[38;5;241m=\u001b[39m\u001b[38;5;124m\"\u001b[39m\u001b[38;5;124mweight\u001b[39m\u001b[38;5;124m\"\u001b[39m, source\u001b[38;5;241m=\u001b[39mind_0,\n\u001b[1;32m    274\u001b[0m \t\t\ttarget\u001b[38;5;241m=\u001b[39mind_1)\n\u001b[1;32m    275\u001b[0m \t\u001b[38;5;28mself\u001b[39m\u001b[38;5;241m.\u001b[39mshortest_path_cache[key] \u001b[38;5;241m=\u001b[39m (path, path_len)\n",
      "File \u001b[0;32m~/Documents/python/atlas/lib/python3.8/site-packages/networkx/classes/backends.py:148\u001b[0m, in \u001b[0;36m_dispatch.<locals>.wrapper\u001b[0;34m(*args, **kwds)\u001b[0m\n\u001b[1;32m    144\u001b[0m         \u001b[38;5;28;01melse\u001b[39;00m:\n\u001b[1;32m    145\u001b[0m             \u001b[38;5;28;01mraise\u001b[39;00m NetworkXNotImplemented(\n\u001b[1;32m    146\u001b[0m                 \u001b[38;5;124mf\u001b[39m\u001b[38;5;124m\"\u001b[39m\u001b[38;5;124m'\u001b[39m\u001b[38;5;132;01m{\u001b[39;00mname\u001b[38;5;132;01m}\u001b[39;00m\u001b[38;5;124m'\u001b[39m\u001b[38;5;124m not implemented by \u001b[39m\u001b[38;5;132;01m{\u001b[39;00mplugin_name\u001b[38;5;132;01m}\u001b[39;00m\u001b[38;5;124m\"\u001b[39m\n\u001b[1;32m    147\u001b[0m             )\n\u001b[0;32m--> 148\u001b[0m \u001b[38;5;28;01mreturn\u001b[39;00m \u001b[43mfunc\u001b[49m\u001b[43m(\u001b[49m\u001b[38;5;241;43m*\u001b[39;49m\u001b[43margs\u001b[49m\u001b[43m,\u001b[49m\u001b[43m \u001b[49m\u001b[38;5;241;43m*\u001b[39;49m\u001b[38;5;241;43m*\u001b[39;49m\u001b[43mkwds\u001b[49m\u001b[43m)\u001b[49m\n",
      "File \u001b[0;32m~/Documents/python/atlas/lib/python3.8/site-packages/networkx/algorithms/shortest_paths/generic.py:173\u001b[0m, in \u001b[0;36mshortest_path\u001b[0;34m(G, source, target, weight, method)\u001b[0m\n\u001b[1;32m    171\u001b[0m     paths \u001b[38;5;241m=\u001b[39m nx\u001b[38;5;241m.\u001b[39mbidirectional_shortest_path(G, source, target)\n\u001b[1;32m    172\u001b[0m \u001b[38;5;28;01melif\u001b[39;00m method \u001b[38;5;241m==\u001b[39m \u001b[38;5;124m\"\u001b[39m\u001b[38;5;124mdijkstra\u001b[39m\u001b[38;5;124m\"\u001b[39m:\n\u001b[0;32m--> 173\u001b[0m     _, paths \u001b[38;5;241m=\u001b[39m \u001b[43mnx\u001b[49m\u001b[38;5;241;43m.\u001b[39;49m\u001b[43mbidirectional_dijkstra\u001b[49m\u001b[43m(\u001b[49m\u001b[43mG\u001b[49m\u001b[43m,\u001b[49m\u001b[43m \u001b[49m\u001b[43msource\u001b[49m\u001b[43m,\u001b[49m\u001b[43m \u001b[49m\u001b[43mtarget\u001b[49m\u001b[43m,\u001b[49m\u001b[43m \u001b[49m\u001b[43mweight\u001b[49m\u001b[43m)\u001b[49m\n\u001b[1;32m    174\u001b[0m \u001b[38;5;28;01melse\u001b[39;00m:  \u001b[38;5;66;03m# method == 'bellman-ford':\u001b[39;00m\n\u001b[1;32m    175\u001b[0m     paths \u001b[38;5;241m=\u001b[39m nx\u001b[38;5;241m.\u001b[39mbellman_ford_path(G, source, target, weight)\n",
      "File \u001b[0;32m~/Documents/python/atlas/lib/python3.8/site-packages/networkx/algorithms/shortest_paths/weighted.py:2398\u001b[0m, in \u001b[0;36mbidirectional_dijkstra\u001b[0;34m(G, source, target, weight)\u001b[0m\n\u001b[1;32m   2396\u001b[0m                     revpath\u001b[38;5;241m.\u001b[39mreverse()\n\u001b[1;32m   2397\u001b[0m                     finalpath \u001b[38;5;241m=\u001b[39m paths[\u001b[38;5;241m0\u001b[39m][w] \u001b[38;5;241m+\u001b[39m revpath[\u001b[38;5;241m1\u001b[39m:]\n\u001b[0;32m-> 2398\u001b[0m \u001b[38;5;28;01mraise\u001b[39;00m nx\u001b[38;5;241m.\u001b[39mNetworkXNoPath(\u001b[38;5;124mf\u001b[39m\u001b[38;5;124m\"\u001b[39m\u001b[38;5;124mNo path between \u001b[39m\u001b[38;5;132;01m{\u001b[39;00msource\u001b[38;5;132;01m}\u001b[39;00m\u001b[38;5;124m and \u001b[39m\u001b[38;5;132;01m{\u001b[39;00mtarget\u001b[38;5;132;01m}\u001b[39;00m\u001b[38;5;124m.\u001b[39m\u001b[38;5;124m\"\u001b[39m)\n",
      "\u001b[0;31mNetworkXNoPath\u001b[0m: No path between 552 and 121."
     ]
    }
   ],
   "source": [
    "try:\n",
    "    # Load in distances\n",
    "    distances = np.load(\"data/atlas_dist/distances.npy\")\n",
    "    dists_real = distances[:, 0].tolist()\n",
    "    dists_atlas = distances[:, 1].tolist()\n",
    "except FileNotFoundError:\n",
    "    # Load in points and graph\n",
    "    X = np.load(\"data/klein_dist/carlsson_points.npy\")\n",
    "    G = pickle.load(open(\"data/klein_dist/carlsson_graph.pkl\", \"rb\"))\n",
    "\n",
    "    # Generate atlas graph\n",
    "    ka = load_atlas(\"random_klein\", 2, 9)\n",
    "\n",
    "    # Generate dense subgraph\n",
    "    ka.construct_dense_graph()\n",
    "    \n",
    "    # Randomly select points from graph\n",
    "    np.random.seed(493)\n",
    "    N, _ = X.shape\n",
    "\n",
    "    n_pairs = 100\n",
    "\n",
    "    inds = np.random.choice(N, size=(2*n_pairs), replace=False)\n",
    "    inds_start = inds[:n_pairs]\n",
    "    inds_end = inds[n_pairs:]\n",
    "\n",
    "    dists_real = []\n",
    "    dists_atlas = []\n",
    "    for start, end in tqdm(zip(inds_start, inds_end), total=n_pairs):\n",
    "    #for start, end in zip(inds_start, inds_end):\n",
    "        # Compute real distance\n",
    "        dist_real = nx.shortest_path_length(G, source=start, target=end,\n",
    "                            weight=\"weight\")\n",
    "\n",
    "        # Compute atlas distance\n",
    "        x_start = X[start, :]\n",
    "        x_end = X[end, :]\n",
    "        xi_0, chart_0 = ka.ingest_ambient_point(x_start)\n",
    "        xi_1, chart_1 = ka.ingest_ambient_point(x_end)\n",
    "\n",
    "        _, _, _, dist_atlas = ka.approximate_shortest_path(xi_0, chart_0,\n",
    "                                                    xi_1, chart_1)\n",
    "        \n",
    "        # X_pair = np.stack([x_start, x_end])\n",
    "        # chart_assignments = ka.assign_charts(X_pair)\n",
    "        # chart_start = tuple(chart_assignments[0, :])\n",
    "        # chart_end = tuple(chart_assignments[1, :])\n",
    "        # L_start = ka.L_dict[chart_start]\n",
    "        # L_end = ka.L_dict[chart_end]\n",
    "        # center_start = ka.center_dict[chart_start]\n",
    "        # center_end = ka.center_dict[chart_end]\n",
    "        # xi_start = L_start.T @ (x_start - center_start)\n",
    "        # xi_end = L_end.T @ (x_end - center_end)\n",
    "        # _, _, _, dist_atlas = ka.approximate_shortest_path(xi_start, chart_start,\n",
    "        #                       xi_end, chart_end)\n",
    "        # Store distances\n",
    "        dists_real.append(dist_real)\n",
    "        dists_atlas.append(dist_atlas)\n",
    "    dists_real_vec = np.array(dists_real)\n",
    "    dists_atlas_vec = np.array(dists_atlas)\n",
    "    distances = np.stack([dists_real_vec, dists_atlas_vec]).T\n",
    "    assert distances.shape[1] == 2\n",
    "    np.save(\"data/atlas_dist/distances.npy\")"
   ]
  },
  {
   "cell_type": "code",
   "execution_count": null,
   "id": "47c0d509",
   "metadata": {},
   "outputs": [],
   "source": [
    "ratios = [(dist_atlas/dist_real) for dist_atlas, dist_real in zip(dists_atlas, dists_real)]\n",
    "r_max = np.max(ratios)\n",
    "r_min = np.min(ratios)\n",
    "alpha = r_max / r_min"
   ]
  },
  {
   "cell_type": "code",
   "execution_count": null,
   "id": "58671835",
   "metadata": {},
   "outputs": [],
   "source": [
    "fig = plt.figure(figsize=(3, 3))\n",
    "gs_len = 8\n",
    "gs = GridSpec(gs_len, gs_len)\n",
    "ax = fig.add_subplot(gs[1:-1, 1:-1])\n",
    "#ax.scatter(dists_real, dists_real, color=\"b\")\n",
    "ax.scatter(dists_real, dists_atlas, color=\"r\")\n",
    "ax.set_xlabel(\"Dist. in manifold\", fontsize=12)\n",
    "ax.set_ylabel(\"Dist. in representation\", fontsize=12, labelpad=20)\n",
    "ax.set_title(\"Atlas graph\")\n",
    "\n",
    "ax.set_yticks([])\n",
    "ax.text(0.05, 0.9, r\"$\\alpha=\"+str(alpha)[:4]+\"$\",\n",
    "        fontsize=12, transform=ax.transAxes)\n",
    "\n",
    "path_collections = [item for item in ax.get_children() if isinstance(item, PathCollection)]\n",
    "for pc in path_collections:\n",
    "    pc.set_edgecolor(\"k\")\n",
    "\n",
    "fig.savefig(\"graphics/dist/atlas_dist_naive.jpg\")\n",
    "    \n",
    "plt.show()"
   ]
  }
 ],
 "metadata": {
  "kernelspec": {
   "display_name": "Python 3 (ipykernel)",
   "language": "python",
   "name": "python3"
  },
  "language_info": {
   "codemirror_mode": {
    "name": "ipython",
    "version": 3
   },
   "file_extension": ".py",
   "mimetype": "text/x-python",
   "name": "python",
   "nbconvert_exporter": "python",
   "pygments_lexer": "ipython3",
   "version": "3.8.10"
  }
 },
 "nbformat": 4,
 "nbformat_minor": 5
}
